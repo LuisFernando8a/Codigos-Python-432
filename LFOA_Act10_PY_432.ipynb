{
  "nbformat": 4,
  "nbformat_minor": 0,
  "metadata": {
    "colab": {
      "provenance": [],
      "authorship_tag": "ABX9TyORstdL/hPDEIrtiKnL74EH",
      "include_colab_link": true
    },
    "kernelspec": {
      "name": "python3",
      "display_name": "Python 3"
    },
    "language_info": {
      "name": "python"
    }
  },
  "cells": [
    {
      "cell_type": "markdown",
      "metadata": {
        "id": "view-in-github",
        "colab_type": "text"
      },
      "source": [
        "<a href=\"https://colab.research.google.com/github/LuisFernando8a/Codigos-Python-432/blob/main/LFOA_Act10_PY_432.ipynb\" target=\"_parent\"><img src=\"https://colab.research.google.com/assets/colab-badge.svg\" alt=\"Open In Colab\"/></a>"
      ]
    },
    {
      "cell_type": "markdown",
      "source": [
        "# ACTIVIDAD 10"
      ],
      "metadata": {
        "id": "pncXupf2Mn2U"
      }
    },
    {
      "cell_type": "markdown",
      "source": [
        " REALIZA UN PROGRAMA QUE UTILICE UNA LISTA DE DICCIONARIOS\n",
        "MENU\n",
        "\n",
        "1.- Agregar (automatico)\n",
        "\n",
        "2.- Agregar (manual)\n",
        "\n",
        "3.- Imprimir lista\n",
        "\n",
        " a)\n",
        "\n",
        " b)\n",
        "\n",
        " c)\n",
        "\n",
        "4.- Buscar {ID}\n",
        "\n",
        "5.- Ordenar\n",
        "\n",
        "6.- Eliminar {ID}\n",
        "\n",
        "7.- Borrar Toda la lista {ID}\n",
        "\n",
        "0.- SALIR\n",
        "\n",
        "NOTA: Los datos del diccionario son los Datos básicos de un trabajador de una fabrica."
      ],
      "metadata": {
        "id": "yxFD4lxnMrVf"
      }
    },
    {
      "cell_type": "code",
      "execution_count": 20,
      "metadata": {
        "id": "ND1ddO1yJPjE"
      },
      "outputs": [],
      "source": [
        "from IPython.display import clear_output\n",
        "import re\n",
        "import pandas as pd\n",
        "import random\n",
        "import time"
      ]
    },
    {
      "cell_type": "code",
      "source": [
        "def valid_num(ri,rf,msg):\n",
        "    salida = 1\n",
        "    while(salida == 1):\n",
        "            try:\n",
        "                num = input(f\"{msg}\")\n",
        "                num_ent = int(num)\n",
        "                if int(num):\n",
        "                    if(num_ent >= ri and num_ent <= rf):\n",
        "                        salida = 0\n",
        "                        return num_ent\n",
        "                    else:\n",
        "                        salida = 1\n",
        "            except ValueError:\n",
        "                print(\"NO ES UN NUMERO\")\n",
        "                print(\"INTENTA OTRA VEZ\")"
      ],
      "metadata": {
        "id": "r_4pZoMDNB5k"
      },
      "execution_count": 21,
      "outputs": []
    },
    {
      "cell_type": "code",
      "source": [
        "def valid_cadena(msg):\n",
        "\n",
        "    salida = 1\n",
        "    while(salida == 1):\n",
        "            try:\n",
        "                patron = \"^[a-zA-ZñÑ\\s]+$\"\n",
        "                cadena = input(msg)\n",
        "                if re.match(patron, cadena):\n",
        "                    return cadena\n",
        "                    salida = 0\n",
        "                else:\n",
        "                    salida = 1\n",
        "            except ValueError:\n",
        "                print(\"NO ES UN NUMERO\")\n",
        "                print(\"INTENTA OTRA VEZ\")"
      ],
      "metadata": {
        "id": "RrzVG9X4NCDK"
      },
      "execution_count": 22,
      "outputs": []
    },
    {
      "cell_type": "code",
      "source": [
        "def ordenada(lista,clave):\n",
        "    for i in range(len(lista) // 2):\n",
        "        if lista[i][clave] > lista[len(lista) - 1 - i][clave]:\n",
        "            return False\n",
        "    return True"
      ],
      "metadata": {
        "id": "Y3PSAEx7NCL7"
      },
      "execution_count": 23,
      "outputs": []
    },
    {
      "cell_type": "code",
      "source": [
        "def ag_empleado(lista, empleado):\n",
        "    if not any(e[\"ID\"] == empleado[\"ID\"] for e in lista):\n",
        "        lista.append(empleado)\n",
        "    else:\n",
        "        print(\"YA EXISTE UN EMPLEADO CON EL MISMO ID\")"
      ],
      "metadata": {
        "id": "BoplA50vPbg1"
      },
      "execution_count": 24,
      "outputs": []
    },
    {
      "cell_type": "code",
      "source": [
        "def accion1():\n",
        "    # 0 - Hombre\n",
        "    # 1 - Mujer\n",
        "    id = random.randint(10000,19999)\n",
        "    sexo = random.randint(0, 100)\n",
        "    nombHom = [\n",
        "    \"Fernando\", \"Andrés\", \"Antonio\", \"Miguel\", \"Rafael\", \"Alberto\", \"Roberto\", \"Mauricio\",\n",
        "    \"Juan\", \"Luis\", \"Enrique\", \"Tony\", \"Omar\", \"DanieL\", \"Aaron\", \"Manuel\", \"Joel\",\n",
        "    \"Kevin\", \"Bruno\", \"José\", \"Sergio\", \"Gabriel\", \"Lucas\", \"Jorge\", \"Darío\", \"Íker\", \"Samuel\",\n",
        "    \"Alejandro\", \"Mateo\", \"Ricardo\", \"Rodrigo\", \"Daniel\", \"Héctor\", \"Eduardo\", \"Erik\", \"Adan\"]\n",
        "    nombMuj = [\n",
        "    \"Beatriz\", \"Rosa\", \"Teresa\", \"Victoria\", \"Patricia\", \"Daniela\", \"Natalia\", \"Camila\", \"Valentina\",\n",
        "    \"Alicia\", \"Gloria\", \"Irene\", \"Eva\", \"Nora\", \"Angela\", \"Marina\", \"Cecilia\", \"Estela\", \"Gabriela\",\n",
        "    \"María\", \"Carmen\", \"Laura\", \"Josefa\", \"Isabel\", \"Ana\", \"Marta\", \"Cristina\", \"Lucia\", \"Julia\",\n",
        "    \"Rafaela\", \"Susana\", \"Paulina\", \"Renata\", \"Josefina\", \"Inés\"]\n",
        "    apellido = [\n",
        "    \"Peralta\", \"Álvarez\", \"Gallegos\", \"Zamora\", \"Castañeda\", \"Escobar\", \"Parra\", \"Solís\", \"Tovar\", \"Gallardo\",\n",
        "    \"Gómez\", \"Flores\", \"Morales\", \"Vázquez\", \"Jiménez\", \"Reyes\", \"Díaz\", \"Torres\", \"Gutiérrez\", \"Ruiz\",\n",
        "    \"Hernández\", \"García\", \"Martínez\", \"López\", \"González\", \"Pérez\", \"Rodríguez\", \"Sánchez\",\n",
        "    \"Castillo\", \"Soto\", \"Cabrera\", \"Gonzales\", \"Mendoza\", \"Silva\", \"Vega\", \"Valdez\", \"Pacheco\", \"Delgado\",\n",
        "    \"Nuñez\", \"Herrera\", \"Medina\", \"Ríos\", \"Salazar\", \"Guerrero\", \"Calderón\", \"Arroyo\", \"Paredes\", \"Molina\",\n",
        "    \"Santos\", \"Villanueva\", \"Aguirre\", \"Bravo\", \"Bustamante\", \"Chávez\", \"Figueroa\", \"Miranda\", \"Olivares\", \"Peña\",\n",
        "    \"Quintero\", \"Santana\",\"Valencia\", \"Zavala\", \"Andrade\", \"Corona\", \"Espinoza\", \"Guzmán\", \"Lara\", \"Montoya\"]\n",
        "    puesto = [\n",
        "        \"Coordinador de producción\",\"Técnico soldador\",\"Gerente de operaciones\",\n",
        "        \"Técnico de seguridad\",\"Inspector de control de calidad\",\"Instalador de máquinas\",\n",
        "        \"Representante de servicio al cliente\",\"Técnico de servicio de campo\",\"Asociado de almacén\",\n",
        "        \"Operación de tratamiento/ensamblaje\",]\n",
        "    puesto = random.choice(puesto)\n",
        "    apep = random.choice(apellido)\n",
        "    apem = random.choice(apellido)\n",
        "    edad = random.randint(15, 80)\n",
        "\n",
        "    if sexo % 2 == 0:\n",
        "        nombre = random.choice(nombHom)\n",
        "    else:\n",
        "        nombre = random.choice(nombMuj)\n",
        "    regis = {'ID':id,'NOMBRE':nombre, 'PATERNO':apep, 'MATERNO': apem, 'PUESTO': puesto, 'EDAD':edad}\n",
        "    print(\"SE AGREGARON 10 EMPLEADOS AUTOMATICAMENTE!\")\n",
        "    return regis"
      ],
      "metadata": {
        "id": "2iYUlTEhPwcn"
      },
      "execution_count": 25,
      "outputs": []
    },
    {
      "cell_type": "code",
      "source": [
        "def accion2():\n",
        "    print(\"EL NO° TIENE QUE IR DEL 10000 a 19999\")\n",
        "    id = valid_num(10000,19999,\"INGRESAR NUM DE TRABAJADOR: \")\n",
        "    nombre = valid_cadena(\"INGRESAR NOMBRE: \")\n",
        "    apep = valid_cadena(\"INGRESAR APELLIDO PATERNO: \")\n",
        "    apem = valid_cadena(\"INGRESAR APELLIDO MATERNO: \")\n",
        "    edad = valid_num(18,80,\"INGRESAR EDAD: \")\n",
        "    puesto = valid_cadena(\"INGRESAR PUESTO EN EL QUE TRABAJA: \")\n",
        "    regis = {'ID':id,'NOMBRE':nombre, 'PATERNO':apep, 'MATERNO': apem, 'PUESTO': puesto, 'EDAD':edad}\n",
        "    return regis"
      ],
      "metadata": {
        "id": "k0ZD7M7uPwRH"
      },
      "execution_count": 26,
      "outputs": []
    },
    {
      "cell_type": "code",
      "source": [
        "def accion3(dicc_list):\n",
        "    if len(dicc_list) >= 1:\n",
        "        salida=pd.DataFrame(dicc_list)\n",
        "        print(salida.to_string(index=False))\n",
        "    else:\n",
        "        print(\"EL REGISTRO SE ENCUENTRA VACIO, INGRESA LOS DATOS DE LOS TRABAJADORES\")"
      ],
      "metadata": {
        "id": "mmC56vTHPwF0"
      },
      "execution_count": 27,
      "outputs": []
    },
    {
      "cell_type": "code",
      "source": [
        "def accion4(registro):\n",
        "    ubi = 0\n",
        "    salir = 0\n",
        "    print(\"EL NUM TIENE QUE IR DEL 10000 a 19999\")\n",
        "    id = valid_num(10000,19999,\"INGRESAR NUM DE TRABAJADOR: \")\n",
        "    for busqueda in registro:\n",
        "        if id in busqueda.values():\n",
        "            print(f\"SE ENCONTRO AL TRABAJADOR CON EL ID:'{id}'\")\n",
        "            ubi = busqueda\n",
        "            salir = 1\n",
        "        if salir == 1:\n",
        "            return ubi\n",
        "            break\n",
        "    else:\n",
        "        print(f\"NO ESTA EL TRABAJADOR CON EL ID: '{id}'\")"
      ],
      "metadata": {
        "id": "SCfSUE41Ppmg"
      },
      "execution_count": 28,
      "outputs": []
    },
    {
      "cell_type": "code",
      "source": [
        "def accion5(registros):\n",
        "    clave = 'ID'\n",
        "    ordenadas1 = ordenada(registros,clave)\n",
        "    if not ordenadas1:\n",
        "        registros = sorted(registros, key=lambda x: x['ID'])\n",
        "        print(\"LISTA NO ORDENADA, SE ORDENO POR 'ID'.\")\n",
        "        return registros\n",
        "    else:\n",
        "        print(\"LISTA ORDENADA POR 'ID'.\")\n",
        "        return 0"
      ],
      "metadata": {
        "id": "3uzEXU33Ppft"
      },
      "execution_count": 29,
      "outputs": []
    },
    {
      "cell_type": "code",
      "source": [
        "def accion6(lista_registros):\n",
        "    if (len(lista_registros) > 0):\n",
        "        remover = accion4(registros)\n",
        "        registros.remove(remover)\n",
        "    else:\n",
        "        print(\"EL REGISTRO NO CONTIENE EMPLEADOS\")"
      ],
      "metadata": {
        "id": "muzS4sSxPbxJ"
      },
      "execution_count": 30,
      "outputs": []
    },
    {
      "cell_type": "code",
      "source": [
        "def accion7(lista_registros):\n",
        "    lista_registros = lista_registros.clear()\n",
        "    print(\"SE VACIO EL REGISTRO DE TRABAJADORES\")"
      ],
      "metadata": {
        "id": "6jXQIUXzPboy"
      },
      "execution_count": 31,
      "outputs": []
    },
    {
      "cell_type": "code",
      "source": [
        "registros = []\n",
        "while(True):\n",
        "    print(\"----------MENU----------\")\n",
        "    print(\"1.- AGREGAR AUTOMATICO\")\n",
        "    print(\"2.- AGREGAR MANUAL\")\n",
        "    print(\"3.- IMPRIMIR LISTA\")\n",
        "    print(\"4.- BUSCAR EMPLEADO \")\n",
        "    print(\"5.- ORDENAR\")\n",
        "    print(\"6.- ELIMINAR EMPLEADO\")\n",
        "    print(\"7.- BORRAR REGISTRO\")\n",
        "    print(\"0.- SALIR\")\n",
        "    opc = int(input(\"ELEGIR OPCION: \"))\n",
        "    if(opc == 0):\n",
        "        break\n",
        "    elif(opc == 1):\n",
        "        for i in range(10):\n",
        "            registro = accion1()\n",
        "            ag_empleado(registros,registro)\n",
        "    elif(opc == 2):\n",
        "        registro = accion2()\n",
        "        ag_empleado(registros,registro)\n",
        "    elif(opc == 3):\n",
        "        accion3(registros)\n",
        "    elif(opc == 4):\n",
        "        print(accion4(registros))\n",
        "    elif(opc == 5):\n",
        "        aux = accion5(registros)\n",
        "        if aux != 0:\n",
        "            registros = aux\n",
        "    elif(opc == 6):\n",
        "        accion6(registros)\n",
        "    elif(opc == 7):\n",
        "        registros = accion7(registros)\n",
        "        registros = []\n",
        "    input(\"PRESIONE ENTER \")\n",
        "    clear_output()"
      ],
      "metadata": {
        "colab": {
          "base_uri": "https://localhost:8080/",
          "height": 0
        },
        "id": "wXSDommjUbBf",
        "outputId": "890d68dc-4b6b-4f1d-d9e9-9ebf28e6e5b2"
      },
      "execution_count": null,
      "outputs": [
        {
          "output_type": "stream",
          "name": "stdout",
          "text": [
            "----------MENU----------\n",
            "1.- AGREGAR AUTOMATICO\n",
            "2.- AGREGAR MANUAL\n",
            "3.- IMPRIMIR LISTA\n",
            "4.- BUSCAR EMPLEADO \n",
            "5.- ORDENAR\n",
            "6.- ELIMINAR EMPLEADO\n",
            "7.- BORRAR REGISTRO\n",
            "0.- SALIR\n",
            "ELEGIR OPCION: 3\n",
            "   ID   NOMBRE  PATERNO   MATERNO                               PUESTO  EDAD\n",
            "11545 Fernando     Ruiz  Gallegos                     Técnico soldador    41\n",
            "12938  Rafaela Martínez   Aguirre         Técnico de servicio de campo    75\n",
            "13224  Ricardo   Corona  Gallardo Representante de servicio al cliente    69\n",
            "15186   Estela   Flores    Santos               Instalador de máquinas    50\n",
            "16452 Fernando     Vega     Silva                     Técnico soldador    53\n",
            "18782     Juan Espinoza  Castillo            Coordinador de producción    79\n",
            "19712 Gabriela  Delgado Castañeda                 Técnico de seguridad    80\n",
            "19778     Luis   García    Guzmán               Instalador de máquinas    66\n",
            "19850  Beatriz   Medina     Pérez  Operación de tratamiento/ensamblaje    28\n",
            "19890   Rafael Gallardo   Álvarez                     Técnico soldador    53\n"
          ]
        }
      ]
    }
  ]
}