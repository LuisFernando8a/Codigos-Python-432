{
  "nbformat": 4,
  "nbformat_minor": 0,
  "metadata": {
    "colab": {
      "provenance": [],
      "authorship_tag": "ABX9TyO17o5m6Dp7VoDVZTSBtfg6",
      "include_colab_link": true
    },
    "kernelspec": {
      "name": "python3",
      "display_name": "Python 3"
    },
    "language_info": {
      "name": "python"
    }
  },
  "cells": [
    {
      "cell_type": "markdown",
      "metadata": {
        "id": "view-in-github",
        "colab_type": "text"
      },
      "source": [
        "<a href=\"https://colab.research.google.com/github/LuisFernando8a/Codigos-Python-432/blob/main/LFOA_Act7_PY_432.ipynb\" target=\"_parent\"><img src=\"https://colab.research.google.com/assets/colab-badge.svg\" alt=\"Open In Colab\"/></a>"
      ]
    },
    {
      "cell_type": "markdown",
      "source": [
        "# ACTIVIDAD 7"
      ],
      "metadata": {
        "id": "DTnvi4CDSNqR"
      }
    },
    {
      "cell_type": "code",
      "source": [
        "import random"
      ],
      "metadata": {
        "id": "fiUaEoySTtnP"
      },
      "execution_count": 3,
      "outputs": []
    },
    {
      "cell_type": "code",
      "source": [
        "def vali_num(n):\n",
        "    try:\n",
        "        int(n)\n",
        "        return True\n",
        "    except ValueError:\n",
        "        return False"
      ],
      "metadata": {
        "id": "BKrFeY71VWdN"
      },
      "execution_count": 4,
      "outputs": []
    },
    {
      "cell_type": "markdown",
      "source": [
        "1.- Función que utilice una lista con los nombres de tus mascotas, o artistas favoritos, (minimo 5, maximo 10) imprimir las cadenas y la cantidad de caracteres de cada cadena.  "
      ],
      "metadata": {
        "id": "KLhI7HsoSQ8I"
      }
    },
    {
      "cell_type": "code",
      "execution_count": 7,
      "metadata": {
        "id": "yYfnRVoUPGN6"
      },
      "outputs": [],
      "source": [
        "def nombres_favoritos():\n",
        "    try:\n",
        "        total = int(input(\"Cuantos nombres favoritos tienes? \"))\n",
        "        if total < 5 or total > 10:\n",
        "            raise ValueError(\"Fuera del rango\")\n",
        "    except ValueError as e:\n",
        "        print(\"Error: \",e)\n",
        "    except:\n",
        "        print(\"Ocurrio un error en la red\")\n",
        "    else:\n",
        "        lista = []\n",
        "        for i in range(total):\n",
        "            favorito = input(\"Dame el nombre favorito de tu mascota o artista: \")\n",
        "            lista.append(favorito)\n",
        "\n",
        "        for i, elemento in enumerate(lista):\n",
        "            caract = len(elemento)\n",
        "            print(f\"{i} -->{elemento} contiene: {caract} caracteres\")"
      ]
    },
    {
      "cell_type": "code",
      "source": [
        "nombres_favoritos()"
      ],
      "metadata": {
        "colab": {
          "base_uri": "https://localhost:8080/"
        },
        "id": "aeOvPT-SVqeJ",
        "outputId": "d750913e-a144-4238-ff15-24386c5aee56"
      },
      "execution_count": 8,
      "outputs": [
        {
          "output_type": "stream",
          "name": "stdout",
          "text": [
            "Cuantos nombres favoritos tienes? 5\n",
            "Dame el nombre favorito de tu mascota o artista: kira\n",
            "Dame el nombre favorito de tu mascota o artista: ceviche\n",
            "Dame el nombre favorito de tu mascota o artista: zeus\n",
            "Dame el nombre favorito de tu mascota o artista: Natanael Cano\n",
            "Dame el nombre favorito de tu mascota o artista: burbuja\n",
            "0 -->kira contiene: 4 caracteres\n",
            "1 -->ceviche contiene: 7 caracteres\n",
            "2 -->zeus contiene: 4 caracteres\n",
            "3 -->Natanael Cano contiene: 13 caracteres\n",
            "4 -->burbuja contiene: 7 caracteres\n"
          ]
        }
      ]
    },
    {
      "cell_type": "markdown",
      "source": [
        "2.- Programa que utilice 2 funciones\n",
        "*   Función que genere y regrese una lista con 10 números aleatorios entre el 30 y 50 (no repetidos).\n",
        "*   Función que reciba una lista , Imprimir la lista (Indice y Valor )"
      ],
      "metadata": {
        "id": "TTlp8W5SSOWY"
      }
    },
    {
      "cell_type": "code",
      "source": [
        "def generar():\n",
        "    try:\n",
        "        lista_alea = []\n",
        "        while len(lista_alea) < 10:\n",
        "            numero = random.randint(30, 50)\n",
        "            if numero not in lista_alea:\n",
        "                lista_alea.append(numero)\n",
        "    except:\n",
        "        print(\"Syntax Error\")\n",
        "    else:\n",
        "        return lista_alea"
      ],
      "metadata": {
        "id": "7sBsxntmSM1y"
      },
      "execution_count": 9,
      "outputs": []
    },
    {
      "cell_type": "code",
      "source": [
        "def mostrar(lista):\n",
        "    try:\n",
        "        for i in range(10):\n",
        "            x = isinstance(lista[i],int)\n",
        "            if x is False:\n",
        "                break\n",
        "    except:\n",
        "        print(\"Ocurrio un error \")\n",
        "    else:\n",
        "        for i, elemento in enumerate(lista):\n",
        "            print(f\"[{i}] ----- [{elemento}]\")"
      ],
      "metadata": {
        "id": "GOyGj-vcgVS_"
      },
      "execution_count": 10,
      "outputs": []
    },
    {
      "cell_type": "code",
      "source": [
        "imprimir = generar()\n",
        "mostrar(imprimir)"
      ],
      "metadata": {
        "id": "kRlMGhbsfFC0",
        "colab": {
          "base_uri": "https://localhost:8080/"
        },
        "outputId": "c245d42b-23b7-49f9-f41f-0e83b8376b3e"
      },
      "execution_count": 11,
      "outputs": [
        {
          "output_type": "stream",
          "name": "stdout",
          "text": [
            "[0] ----- [41]\n",
            "[1] ----- [33]\n",
            "[2] ----- [40]\n",
            "[3] ----- [43]\n",
            "[4] ----- [39]\n",
            "[5] ----- [38]\n",
            "[6] ----- [45]\n",
            "[7] ----- [37]\n",
            "[8] ----- [35]\n",
            "[9] ----- [44]\n"
          ]
        }
      ]
    },
    {
      "cell_type": "markdown",
      "source": [
        "3.- Escribe una función que reciba dos listas de números del mismo tamaño y calcule la suma de los elementos correspondientes de cada lista. (regresar una nueva lista) . Luego, muestra una lista con los resultados de cada suma. Nota: si las listas no son del mismo tamaño mandar msge y utilizar el tamaño de la lista mas pequeña)"
      ],
      "metadata": {
        "id": "gXttPou-TF4v"
      }
    },
    {
      "cell_type": "code",
      "source": [
        "def suma_lista(lista1, lista2):\n",
        "    try:\n",
        "        tam1 = len(lista1)\n",
        "        tam2 = len(lista2)\n",
        "        if tam1 != tam2:\n",
        "            print(\"Las listas tienen tamaños diferentes, se usara el valor mas pequeño\")\n",
        "            if tam1 < tam2:\n",
        "                cant = tam1\n",
        "            else:\n",
        "                cant = tam2\n",
        "\n",
        "    except Exception:\n",
        "        print(\"ERROR\")\n",
        "    else:\n",
        "        suma = []\n",
        "        for i in range(cant):\n",
        "            suma.append(lista1[i] + lista2[i])\n",
        "        return suma"
      ],
      "metadata": {
        "id": "MhFS_Vx-TNN5"
      },
      "execution_count": 12,
      "outputs": []
    },
    {
      "cell_type": "code",
      "source": [
        "try:\n",
        "    lista1 = []\n",
        "    lista2 = []\n",
        "    tam1 = int(input(\"Ingrese el tamaño del la lista 1: \"))\n",
        "    tam2 = int(input(\"Ingrese el tamaño del la lista 2: \"))\n",
        "    if int(tam1) == False:\n",
        "        raise Exception(\"no es un numero\")\n",
        "    if int(tam2) == False:\n",
        "        raise Exception(\"no es un numero\")\n",
        "\n",
        "except Exception as e:\n",
        "    print(\"debe ser un numero\",e )\n",
        "else:\n",
        "    print(\"Datos de la lista 1\")\n",
        "    for i in range(tam1):\n",
        "        num = int(input(\"Ingrese el numero: \"))\n",
        "        lista1.append(num)\n",
        "    print(\"Datos de la lista 2\")\n",
        "    for i in range(tam2):\n",
        "        num = int(input(\"Ingrese el numero: \"))\n",
        "        lista2.append(num)\n",
        "    lista3 = suma_lista(lista1,lista2)\n",
        "    print(\"La sumas de ambas listas es: \")\n",
        "    print(lista3)"
      ],
      "metadata": {
        "colab": {
          "base_uri": "https://localhost:8080/"
        },
        "id": "3TIMq2KdV_n-",
        "outputId": "f59ac3f9-8a48-476f-92b8-dc6873db4edf"
      },
      "execution_count": 13,
      "outputs": [
        {
          "output_type": "stream",
          "name": "stdout",
          "text": [
            "Ingrese el tamaño del la lista 1: 2\n",
            "Ingrese el tamaño del la lista 2: 3\n",
            "Datos de la lista 1\n",
            "Ingrese el numero: 5\n",
            "Ingrese el numero: 4\n",
            "Datos de la lista 2\n",
            "Ingrese el numero: 8\n",
            "Ingrese el numero: 7\n",
            "Ingrese el numero: 6\n",
            "Las listas tienen tamaños diferentes, se usara el valor mas pequeño\n",
            "La sumas de ambas listas es: \n",
            "[13, 11]\n"
          ]
        }
      ]
    },
    {
      "cell_type": "markdown",
      "source": [
        "4.- Escribe una función llamada eliminar_duplicados que reciba una lista como parámetro y elimine los elementos duplicados. El resultado debe ser una nueva lista sin duplicados. Pide al usuario que ingrese una lista y luego llama a la función eliminar_duplicados para mostrar la lista sin duplicados. (Solo Numeros enteros, validar)"
      ],
      "metadata": {
        "id": "s0wwCkdOTNkQ"
      }
    },
    {
      "cell_type": "code",
      "source": [
        "def validar():\n",
        "    try:\n",
        "        lista = []\n",
        "        cant = int(input(\"Cuantos numeros vas a leer? \"))\n",
        "        x = isinstance(cant,int)\n",
        "        if x is True:\n",
        "            print(\" \",end='')\n",
        "        else:\n",
        "            raise Exception(\"solo numero \")\n",
        "\n",
        "        for i in range(cant):\n",
        "            num = int(input(\"Ingrese el numero \"))\n",
        "            lista.append(num)\n",
        "    except Exception as e:\n",
        "        print(\"Error: \",e)\n",
        "    else:\n",
        "        long = len(lista)\n",
        "        for i in range(long):\n",
        "            x = isinstance(lista[i],int)\n",
        "            if x is True:\n",
        "                print(\" \",end='')\n",
        "            else:\n",
        "                print(f\"Solo tienen que ser enteros, el elemento {i+1} no es entero\")\n",
        "                return False\n",
        "                break\n",
        "        else:\n",
        "            return lista"
      ],
      "metadata": {
        "id": "25qzb_D_TNwn"
      },
      "execution_count": 14,
      "outputs": []
    },
    {
      "cell_type": "code",
      "source": [
        "def eliminar_duplicados(lista):\n",
        "    try:\n",
        "        nueva_lista = []\n",
        "        for ele in lista:\n",
        "            if ele not in nueva_lista:\n",
        "                nueva_lista.append(ele)\n",
        "    except:\n",
        "        print(\"\")\n",
        "    else:\n",
        "        print(nueva_lista)"
      ],
      "metadata": {
        "id": "zbrOQwk1WMNe"
      },
      "execution_count": 15,
      "outputs": []
    },
    {
      "cell_type": "code",
      "source": [
        "lista = validar()\n",
        "eliminar_duplicados(lista)"
      ],
      "metadata": {
        "colab": {
          "base_uri": "https://localhost:8080/"
        },
        "id": "xiiGOg-bWONo",
        "outputId": "3f9478ef-611c-488a-9f1f-9e2b4895901c"
      },
      "execution_count": 16,
      "outputs": [
        {
          "output_type": "stream",
          "name": "stdout",
          "text": [
            "Cuantos numeros vas a leer? 5\n",
            " Ingrese el numero 44\n",
            "Ingrese el numero 78\n",
            "Ingrese el numero 52\n",
            "Ingrese el numero 19\n",
            "Ingrese el numero 9\n",
            "     [44, 78, 52, 19, 9]\n"
          ]
        }
      ]
    },
    {
      "cell_type": "markdown",
      "source": [
        "5.- Escribe una función que calcule la media y la mediana de una lista de números enteros.\n",
        "La media es la suma de todos los elementos y dividido entre la cantidad de elementos\n",
        "La mediana es el valor que queda en la mitad de la lista cuando se ordena de forma ascendente. Si la lista tiene un número par de elementos, la mediana se calcula como el promedio de los dos valores centrales. Puedes utilizar el método sort() para ordenar la lista y luego calcular la mediana según el tamaño de la lista.\n",
        "\n"
      ],
      "metadata": {
        "id": "drxDET9KTOBg"
      }
    },
    {
      "cell_type": "code",
      "source": [
        "def media_mediana():\n",
        "    try:\n",
        "        lista = []\n",
        "        lista = validar()\n",
        "    except Exception as e:\n",
        "        print(\"Error: \",e)\n",
        "    else:\n",
        "        media = 0\n",
        "        long = len(lista)\n",
        "        for i in range(long):\n",
        "            media += lista[i]\n",
        "        print(f\"La media es de {media/long}\")\n",
        "\n",
        "        lista.sort\n",
        "        mitad = long // 2\n",
        "        ultimo = mitad\n",
        "        if len(lista) % 2 != 0:\n",
        "            print(f\"La mediana es de {lista[ultimo]}\")\n",
        "        else:\n",
        "            penultimo = ultimo - 1\n",
        "            print(f\"La mediana de de {(lista[ultimo] + lista[penultimo])/2}\")\n"
      ],
      "metadata": {
        "id": "9E6QrvC3TOSn"
      },
      "execution_count": 17,
      "outputs": []
    },
    {
      "cell_type": "code",
      "source": [
        "media_mediana()"
      ],
      "metadata": {
        "colab": {
          "base_uri": "https://localhost:8080/"
        },
        "id": "Xh3PhuZRWq0_",
        "outputId": "19ff467b-c65d-4f48-b314-f7efdd1b511a"
      },
      "execution_count": 18,
      "outputs": [
        {
          "output_type": "stream",
          "name": "stdout",
          "text": [
            "Cuantos numeros vas a leer? 4\n",
            " Ingrese el numero 100\n",
            "Ingrese el numero 96\n",
            "Ingrese el numero 79\n",
            "Ingrese el numero 90\n",
            "    La media es de 91.25\n",
            "La mediana de de 87.5\n"
          ]
        }
      ]
    }
  ]
}