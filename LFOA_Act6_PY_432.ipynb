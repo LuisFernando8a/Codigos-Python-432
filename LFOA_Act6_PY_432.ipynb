{
  "nbformat": 4,
  "nbformat_minor": 0,
  "metadata": {
    "colab": {
      "provenance": [],
      "authorship_tag": "ABX9TyOuMyb1/qZw4Jf6HfS77O+t",
      "include_colab_link": true
    },
    "kernelspec": {
      "name": "python3",
      "display_name": "Python 3"
    },
    "language_info": {
      "name": "python"
    }
  },
  "cells": [
    {
      "cell_type": "markdown",
      "metadata": {
        "id": "view-in-github",
        "colab_type": "text"
      },
      "source": [
        "<a href=\"https://colab.research.google.com/github/LuisFernando8a/Codigos-Python-432/blob/main/LFOA_Act6_PY_432.ipynb\" target=\"_parent\"><img src=\"https://colab.research.google.com/assets/colab-badge.svg\" alt=\"Open In Colab\"/></a>"
      ]
    },
    {
      "cell_type": "markdown",
      "source": [
        "# ACTIVIDAD 6"
      ],
      "metadata": {
        "id": "5Hil_PkEUMXB"
      }
    },
    {
      "cell_type": "code",
      "source": [
        "import random\n",
        "from IPython.display import clear_output"
      ],
      "metadata": {
        "id": "f2l4zQRPdvVs"
      },
      "execution_count": 4,
      "outputs": []
    },
    {
      "cell_type": "code",
      "source": [
        "def validacion_de_num(ri,rf,msge=\" DAME UN NUMERO ENTRE \",msgError1=\"ERROR EN RANGO\",msgError2=\"ERROR DE CAPTURA\"):\n",
        "  while True:\n",
        "    try:\n",
        "      num = int(input(f\"{msge} {ri} , {rf} : \"))\n",
        "    except:\n",
        "      print (msgError2)\n",
        "      continue\n",
        "    if num < ri or num > rf:\n",
        "      print (msgError1)\n",
        "      continue\n",
        "    return num"
      ],
      "metadata": {
        "id": "_oPllb8VdwvI"
      },
      "execution_count": 3,
      "outputs": []
    },
    {
      "cell_type": "markdown",
      "source": [
        "1.- FUNCIÓN QUE LEA n CANTIDAD DE NÚMEROS HASTA QUE EL USUARIO LO DESEE, DESPLEGAR LA SUMA DE LOS NÚMEROS, MEDIA Y VALOR DE LOS NÚMEROS MAYORES Y MENORES."
      ],
      "metadata": {
        "id": "DHK_QlFzUO8V"
      }
    },
    {
      "cell_type": "code",
      "source": [
        "def lee_num():\n",
        "    print(\"PRESIONA\")\n",
        "    print(\"1)- Continuar\")\n",
        "    print(\"0)- Salir\")\n",
        "    suma=0\n",
        "    fuera = 1\n",
        "    i=0\n",
        "    try:\n",
        "        while(fuera):\n",
        "            num = int(input(\"Ingresa el numero: \"))\n",
        "            suma += num\n",
        "            i+=1\n",
        "            res = int(input(\"Quieres salir? \"))\n",
        "            if(res == 0):\n",
        "                fuera = 0\n",
        "    except:\n",
        "        print(\"fallo\")\n",
        "    else:\n",
        "        print(f\"La suma es: {suma}\")\n",
        "        print(f\"La media es: {suma/i}\")"
      ],
      "metadata": {
        "id": "m-rayPyUd7S-"
      },
      "execution_count": 27,
      "outputs": []
    },
    {
      "cell_type": "markdown",
      "source": [
        "2.- FUNCIÓN QUE GENERE 15 NÚMEROS IMPARES ENTRE 10 Y 60 o MÁXIMO DE 25 NÚMEROS. DESPLEGAR LA MEDIA DE LOS PARES Y MEDIA DE IMPARES."
      ],
      "metadata": {
        "id": "kAfVa-TUd7g3"
      }
    },
    {
      "cell_type": "code",
      "source": [
        "def generador_num():\n",
        "    sum_par = 0\n",
        "    sum_impar = 0\n",
        "    par = 0\n",
        "    impar = 0\n",
        "    try:\n",
        "        for i in range(25):\n",
        "            num = random.randint(10,60)\n",
        "            if num%2 == 0:\n",
        "                sum_par += num\n",
        "                par += 1\n",
        "            else:\n",
        "                sum_impar += num\n",
        "                impar += 1\n",
        "                if impar == 15:\n",
        "                    print(\"Ya estan los 15 impares\")\n",
        "                    break\n",
        "        else:\n",
        "            print(\"Ya estan los 25 numeros maximos\")\n",
        "    except:\n",
        "        print(\"error\")\n",
        "    else:\n",
        "        print(f\"La media de impares es: {sum_impar/15}\")\n",
        "        print(f\"La media de impares es: {sum_par/par}\")"
      ],
      "metadata": {
        "id": "9N1IYm0Bd9cm"
      },
      "execution_count": 28,
      "outputs": []
    },
    {
      "cell_type": "markdown",
      "source": [
        "3.- FUNCIÓN QUE SIRVA PARA LEER UN RANGO DADO POR EL USUARIO. REPETIR ESTA ACCIÓN HASTA QUE EL USUARIO LO DESEE, DESPLEGAR CANTIDAD DE NUMEROS Y PROMEDIO DE LOS NUMEROS.."
      ],
      "metadata": {
        "id": "gYsPPBfjd9qG"
      }
    },
    {
      "cell_type": "code",
      "source": [
        "def validar():\n",
        "    try:\n",
        "        i=0\n",
        "        suma=0\n",
        "        while(1):\n",
        "            try:\n",
        "                ri = int(input(\"Ingrese el rango inicial \"))\n",
        "                rf = int(input(\"Ingrese el rango final\"))\n",
        "                validacion_de_num(ri,rf)\n",
        "\n",
        "            except ValueError as e:\n",
        "                print(\"Error:\",e)\n",
        "            else:\n",
        "                n = int(input(\"Ingresa el numero a guardar: \"))\n",
        "                suma += n\n",
        "                if n>=ri and n<=rf:\n",
        "                    print(\"El numero dado esta en el rango\")\n",
        "                else:\n",
        "                    print(\"El numero no esta en el rango\")\n",
        "                print(\"1)- Continuar\")\n",
        "                print(\"0)- Salir\")\n",
        "                res = int(input(\"Quieres continuar? \"))\n",
        "                i+=1\n",
        "    except:\n",
        "        print(\"ERROR, Ingresaste algo mal\")\n",
        "    else:\n",
        "        print(f\"El promedio es de{suma / i}\")"
      ],
      "metadata": {
        "id": "EOFSAZggd9zZ"
      },
      "execution_count": 29,
      "outputs": []
    },
    {
      "cell_type": "markdown",
      "source": [
        "4.- FUNCIÓN QUE RECIBA COMO PARÁMETRO LOS VALORES PARA EL ÁREA DE UN TRIANGULO Y RETORNE SU RESULTADO"
      ],
      "metadata": {
        "id": "hksdGNtPd-DO"
      }
    },
    {
      "cell_type": "code",
      "source": [
        "def area():\n",
        "    try:\n",
        "        base = float(input(\"Valor de la base: \"))\n",
        "        altura = float(input(\"Valor de la altura: \"))\n",
        "        if base == 0:\n",
        "            raise ValueError(\"No debe de ser cero\")\n",
        "        if altura == 0:\n",
        "            raise ValueError(\"No debe de  ser cero\")\n",
        "    except ValueError as e:\n",
        "        print(\"Error\",e)\n",
        "    else:\n",
        "        area = (base*altura)/2\n",
        "        print(f\"El area es: {area}\")"
      ],
      "metadata": {
        "id": "s-nsQ8Hrd-SW"
      },
      "execution_count": 36,
      "outputs": []
    },
    {
      "cell_type": "markdown",
      "source": [
        "5.- FUNCION QUE SIRVA QUE SIRVA PARA EVALUAR EL PROMEDIO DE 3 CALIFICACIONES DADAS, SI EL USUARIO SU CALIFICACION ES APROBADA MANDAR MSGE QUE DIGA \"felicidades avanzas al siguiente semestre\", SI LA CALIFICACIONE ESTA REPROBADA EL MENSAGE \"repetir materia \" EL ALUMNO TENDRA UN MAXIMO DE CURSAR 3 VESES LA MATERIA, SI LA REPRUEBA 3 VESES MANDAR MSGE \" lastima estas fuera de la UABC\""
      ],
      "metadata": {
        "id": "g_KySYZKd-bF"
      }
    },
    {
      "cell_type": "code",
      "source": [
        "def EvaluarUABC():\n",
        "    j=0\n",
        "    while(j<=3):\n",
        "        try:\n",
        "            prom = 0\n",
        "            for i in range(1,4):\n",
        "                cali = float(input(f\"Ingresa tu calificacion{i}: \"))\n",
        "                prom +=cali\n",
        "                if cali < 0 or cali > 100:\n",
        "                    raise ValueError(\"La calificacion no puede ser menos 0 o mas de 100\")\n",
        "\n",
        "        except ValueError as e:\n",
        "            print(\"Error: \",e)\n",
        "            print(\"Intenta de Nuevo\")\n",
        "            continue\n",
        "        except:\n",
        "            print(\"Error, NO letras\")\n",
        "            print(\"Intenta de Nuevo\")\n",
        "            continue\n",
        "\n",
        "        else:\n",
        "            prom = prom / 3\n",
        "            if prom >= 60:\n",
        "                print(\"FELICIDADES SIGUES JUGANDO EL PROXIMO SEMESTRE\")\n",
        "                j=4\n",
        "            else:\n",
        "                print(f\"T {i}\")\n",
        "                j+=1\n"
      ],
      "metadata": {
        "id": "r9NSpTTCd-mT"
      },
      "execution_count": 31,
      "outputs": []
    },
    {
      "cell_type": "markdown",
      "source": [
        "MENU"
      ],
      "metadata": {
        "id": "tsovXiCBepQs"
      }
    },
    {
      "cell_type": "code",
      "source": [
        "def menu():\n",
        "    print(\"-------------- MENU-----------------\")\n",
        "    print(\"1.- FUNCIÓN QUE LEA n CANTIDAD DE NÚMEROS HASTA QUE EL USUARIO LO DESEE\")\n",
        "    print(\"2 -FUNCIÓN QUE GENERE 15 NÚMEROS IMPARES ENTRE 10 Y 60 o MÁXIMO DE 25 NÚMEROS.\")\n",
        "    print(\"3 - FUNCIÓN QUE SIRVA PARA LEER UN RANGO DADO POR EL USUARIO. REPETIR ESTA ACCIÓN HASTA QUE EL USUARIO LO DESEE\")\n",
        "    print(\"4.- FUNCIÓN QUE RECIBA COMO PARÁMETRO LOS VALORES PARA EL ÁREA DE UN TRIANGULO Y RETORNE SU RESULTADO\")\n",
        "    print(\"5.- FUNCION QUE SIRVA QUE SIRVA PARA EVALUAR EL PROMEDIO DE 3 CALIFICACIONES DADAS,\", end=' ')\n",
        "    print(\"SI EL USUARIO SU CALIFICACION ES APROBADA MANDAR MSGE QUE DIGA \\\"felicidades avanzas al siguiente semestre\",end=' ')\n",
        "    print(\"SI LA CALIFICACIONE ESTA REPROBADA EL MENSAGE \\\"repetir materia \\\" EL ALUMNO TENDRA UN MAXIMO DE CURSAR 3 VESES LA MATERIA\")\n",
        "    print(\"Que funcion quieres leer? \")\n",
        "    res = validacion_de_num(1,6)\n",
        "\n",
        "    if res == 1:\n",
        "        clear_output()\n",
        "        lee_num()\n",
        "    elif res == 2:\n",
        "        clear_output()\n",
        "        generador_num()\n",
        "    elif res == 3:\n",
        "        clear_output()\n",
        "        validar()\n",
        "    elif res == 4:\n",
        "        clear_output()\n",
        "        area()\n",
        "    elif res == 5:\n",
        "        clear_output()\n",
        "        EvaluarUABC()"
      ],
      "metadata": {
        "id": "Aa9GkGpderEv"
      },
      "execution_count": 32,
      "outputs": []
    },
    {
      "cell_type": "code",
      "source": [
        "menu()"
      ],
      "metadata": {
        "id": "BmKuBCpiesKp"
      },
      "execution_count": null,
      "outputs": []
    }
  ]
}