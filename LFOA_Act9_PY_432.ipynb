{
  "nbformat": 4,
  "nbformat_minor": 0,
  "metadata": {
    "colab": {
      "provenance": [],
      "authorship_tag": "ABX9TyPhkxiWIkOls0HCTL+9l6oq",
      "include_colab_link": true
    },
    "kernelspec": {
      "name": "python3",
      "display_name": "Python 3"
    },
    "language_info": {
      "name": "python"
    }
  },
  "cells": [
    {
      "cell_type": "markdown",
      "metadata": {
        "id": "view-in-github",
        "colab_type": "text"
      },
      "source": [
        "<a href=\"https://colab.research.google.com/github/LuisFernando8a/Codigos-Python-432/blob/main/LFOA_Act9_PY_432.ipynb\" target=\"_parent\"><img src=\"https://colab.research.google.com/assets/colab-badge.svg\" alt=\"Open In Colab\"/></a>"
      ]
    },
    {
      "cell_type": "markdown",
      "source": [
        "# ACTIVIDAD 9"
      ],
      "metadata": {
        "id": "eibgFw3DaB5S"
      }
    },
    {
      "cell_type": "markdown",
      "source": [
        "Realiza un programa en python que utilice el siguiente menu:\n",
        "\n",
        " MENU\n",
        "\n",
        " 1.- Crear Diccionario\n",
        "\n",
        " 2.- Imprimir Diccionario\n",
        "\n",
        " 0.- Salir\n",
        "\n",
        "\n",
        "CREAR DICCIIONARIO: funcion que retorne un diccionario con los datos de basicos de un alumno, donde se pide {id,nombre (1 O 2) , appaterno,apmaterno, edad,sexo}, El diccionario se debe generar automaticmanete a partir de listas.\n",
        "\n",
        "\n",
        "IMPRIMIR DICCIONARIO:  Funcion que reciba como parametro el diccionario, y le de una salida mostrando la informacion en forma de registro que se genero con el diccionario"
      ],
      "metadata": {
        "id": "mh8Hr54TaBpq"
      }
    },
    {
      "cell_type": "code",
      "execution_count": 1,
      "metadata": {
        "id": "C_dcWLeTZHKG"
      },
      "outputs": [],
      "source": [
        "import random\n",
        "from IPython.display import clear_output\n",
        "import time"
      ]
    },
    {
      "cell_type": "code",
      "source": [
        "def gen_registro():\n",
        "    reg = [\"Matricula\", \"Nombre\", \"Apellido Paterno\", \"Apellido Materno\", \"Edad\", \"Sexo\"]\n",
        "    nombres_hombre = [\"Tony\", \"Enrique\", \"Miguel\", \"Angel\", \"Omar\", \"Daniel\", \"Luis\", \"Fernando\", \"Aaron\", \"Juan\", \"Pedro\", \"Kevin\",\n",
        "                    \"Alonso\", \"Alan\", \"Andre\", \"Barry\", \"Oliver\", \"Manuel\", \"Erik\", \"Roberto\", \"Jesus\"]\n",
        "    nombres_mujer = [\"Manuela\", \"Karina\", \"Penelope\", \"Dayanna\", \"Julieta\", \"Diana\", \"Fedra\", \"Alejandra\", \"Montserrath\", \"Anahi\",\n",
        "                    \"Isabel\", \"Monica\", \"Nicolle\", \"Danna\", \"Fernanda\", \"Valeria\", \"Erika\", \"Maria\", \"Juana\", \"Julia\", \"Gabriela\"]\n",
        "    apellidos = [\"Gonzalez\", \"Ochoa\", \"Lopez\", \"Diaz\", \"Gomez\", \"Herrera\", \"Martinez\", \"Perez\", \"Parra\", \"Reyes\", \"Smith\", \"Hernandez\", \"Segura\",\n",
        "                \"Juarez\", \"Moreno\", \"Rivera\", \"Vega\", \"Chavez\", \"Vargas\", \"Rodriguez\", \"Herrera\", \"Castro\", \"Guerrero\", \"Ramirez\"]\n",
        "    edades = [18, 19, 20, 21, 22, 23, 24, 25, 26]\n",
        "\n",
        "    numrand = random.randint(0, 21)\n",
        "    matricula = random.randint(300000, 399999)\n",
        "    nombre = \"\"\n",
        "    genero = random.choice([\"M\", \"F\"])\n",
        "    if genero == \"M\":\n",
        "        nombre = random.choice(nombres_hombre)\n",
        "    else:\n",
        "        nombre = random.choice(nombres_mujer)\n",
        "\n",
        "    apellido_paterno = random.choice(apellidos)\n",
        "    apellido_materno = random.choice(apellidos)\n",
        "    edad = random.choice(edades)\n",
        "\n",
        "    dic = dict(zip(reg, [matricula, nombre, apellido_paterno, apellido_materno, edad, genero]))\n",
        "    print(\"Se creó el directorio\")\n",
        "    return dic\n"
      ],
      "metadata": {
        "id": "u-6VZ7JO886s"
      },
      "execution_count": 19,
      "outputs": []
    },
    {
      "cell_type": "code",
      "source": [
        "def imprimir_dic():\n",
        "  print(dic)"
      ],
      "metadata": {
        "id": "SixR9eKM9B7V"
      },
      "execution_count": 16,
      "outputs": []
    },
    {
      "cell_type": "code",
      "source": [
        "def menu():\n",
        "  print(\"Seleciona una de las siguientes opciones\\n\")\n",
        "  print(\"1.- Crear un diccionario \\n\")\n",
        "  print(\"2.- Imprimir diccionario \\n\")\n",
        "  print(\"0.- Salir \\n\")"
      ],
      "metadata": {
        "id": "KGaL1fRc9EhY"
      },
      "execution_count": 17,
      "outputs": []
    },
    {
      "cell_type": "code",
      "source": [
        "while True:\n",
        "    try:\n",
        "        menu()\n",
        "        op = int(input(\"Ingresa la opcion: \"))\n",
        "    except ValueError:\n",
        "        print(\"Con NUMERO, NO quiero LETRAS.\")\n",
        "    else:\n",
        "        if op == 1:\n",
        "            dic = gen_registro()\n",
        "            input(\"Presiona cualquier tecla para borrar pantalla: \")\n",
        "            clear_output()\n",
        "            continue\n",
        "        elif op == 2:\n",
        "            imprimir_dic()\n",
        "            input(\"Presiona cualquier tecla para borrar pantalla: \")\n",
        "            clear_output()\n",
        "            continue\n",
        "        elif op == 0:\n",
        "            break"
      ],
      "metadata": {
        "colab": {
          "base_uri": "https://localhost:8080/",
          "height": 0
        },
        "id": "J9dyXA6A9G9n",
        "outputId": "9a2afa40-fafd-40f1-a58b-db331747577b"
      },
      "execution_count": null,
      "outputs": [
        {
          "output_type": "stream",
          "name": "stdout",
          "text": [
            "Seleciona una de las siguientes opciones\n",
            "\n",
            "1.- Crear un diccionario \n",
            "\n",
            "2.- Imprimir diccionario \n",
            "\n",
            "0.- Salir \n",
            "\n",
            "Ingresa la opcion: 2\n",
            "{'Matricula': 343961, 'Nombre': 'Monica', 'Apellido Paterno': 'Gomez', 'Apellido Materno': 'Hernandez', 'Edad': 25, 'Sexo': 'F'}\n"
          ]
        }
      ]
    }
  ]
}