{
  "nbformat": 4,
  "nbformat_minor": 0,
  "metadata": {
    "colab": {
      "provenance": [],
      "authorship_tag": "ABX9TyMF+K56D4Noqh9DWPxgC6a6",
      "include_colab_link": true
    },
    "kernelspec": {
      "name": "python3",
      "display_name": "Python 3"
    },
    "language_info": {
      "name": "python"
    }
  },
  "cells": [
    {
      "cell_type": "markdown",
      "metadata": {
        "id": "view-in-github",
        "colab_type": "text"
      },
      "source": [
        "<a href=\"https://colab.research.google.com/github/LuisFernando8a/Codigos-Python-432/blob/main/LFOA_Act03.ipynb\" target=\"_parent\"><img src=\"https://colab.research.google.com/assets/colab-badge.svg\" alt=\"Open In Colab\"/></a>"
      ]
    },
    {
      "cell_type": "markdown",
      "source": [
        "# ACTIVIDAD 3"
      ],
      "metadata": {
        "id": "zbQ6CaJnhAQ5"
      }
    },
    {
      "cell_type": "markdown",
      "source": [
        "1.- Algoritmo que lea 3 calificaciones calcule el promedio del alumno y despliega un mensaje."
      ],
      "metadata": {
        "id": "XyuKVGSghAcP"
      }
    },
    {
      "cell_type": "code",
      "execution_count": 13,
      "metadata": {
        "colab": {
          "base_uri": "https://localhost:8080/",
          "height": 0
        },
        "id": "P_bamrxseXV4",
        "outputId": "13de0036-0e62-4648-958a-2d0d64d1dbf5"
      },
      "outputs": [
        {
          "output_type": "stream",
          "name": "stdout",
          "text": [
            "Calculadora de Promedio\n",
            "Cual es tu primera calificacion: 40\n",
            "Cual es tu segunda calificacion: 100\n",
            "Cual es tu tercera calificacion: 100\n",
            "Tu promedio es: 80.0\n",
            "BIEN \n"
          ]
        }
      ],
      "source": [
        "print(\"Calculadora de Promedio\")\n",
        "calif1 = float(input(\"Cual es tu primera calificacion: \"))\n",
        "calif2 = float(input(\"Cual es tu segunda calificacion: \"))\n",
        "calif3 = float(input(\"Cual es tu tercera calificacion: \"))\n",
        "\n",
        "prom=(calif1 + calif2 + calif3)/3\n",
        "\n",
        "print(f\"Tu promedio es: {prom}\")\n",
        "if prom < 30:\n",
        "    print(\"REPETIR \")\n",
        "elif prom < 60:\n",
        "    print(\"EXTRAORDINARIO \")\n",
        "elif prom < 70:\n",
        "    print(\"SUFICIENTE \")\n",
        "elif prom < 80:\n",
        "    print(\"REGULAR\")\n",
        "elif prom < 90:\n",
        "    print(\"BIEN \")\n",
        "elif prom < 98:\n",
        "    print(\"MUY BIEN \")\n",
        "elif prom <= 100:\n",
        "    print(\"EXCELENTE \")\n",
        "else:\n",
        "    print(\"ERROR \")\n"
      ]
    },
    {
      "cell_type": "markdown",
      "source": [
        "2.- Algoritmo que sirva para calcular el salario semanal de un trabajador donde se obtiene como dato de entrada las horas semanales trabajadas, el salario por hora."
      ],
      "metadata": {
        "id": "w_bKqPiXhL6U"
      }
    },
    {
      "cell_type": "code",
      "source": [
        "print(\"Calculadorade salario semanal\")\n",
        "horastrab = float(input(\"Ingrese las horas que trabajas en la semana: \"))\n",
        "salxhora = float(input(\"Ingresa tu salario por hora: \"))\n",
        "\n",
        "jornadanorm = 40\n",
        "tarifa_normal = salxhora\n",
        "tarifa_extra_doble = salxhora * 2\n",
        "tarifa_extra_triple = salxhora * 3\n",
        "\n",
        "if horastrab <= jornadanorm:\n",
        "    salnormal = horastrab * tarifa_normal\n",
        "    horasext = 0\n",
        "else:\n",
        "    horasnorm = jornadanorm\n",
        "    horasext = horastrab - jornadanorm\n",
        "    if horasext<= 9:\n",
        "        salnormal = horasnorm * tarifa_normal\n",
        "        salextra = horasext * tarifa_extra_doble\n",
        "    else:\n",
        "        salnormal = horasnorm * tarifa_normal\n",
        "        salextra = 9 * tarifa_extra_doble + (horasext - 9) * tarifa_extra_triple\n",
        "\n",
        "\n",
        "saltotal = salnormal + salextra\n",
        "\n",
        "print(\"Salario Normal: $\", salnormal)\n",
        "print(\"Salario Extra: $\", salextra)\n",
        "print(\"Salario Total: $\", saltotal)"
      ],
      "metadata": {
        "colab": {
          "base_uri": "https://localhost:8080/",
          "height": 0
        },
        "id": "wkCPnSCWhNa6",
        "outputId": "a2cdac6b-dc3a-43b6-c35c-c767f306a3ce"
      },
      "execution_count": 22,
      "outputs": [
        {
          "output_type": "stream",
          "name": "stdout",
          "text": [
            "Calculadorade salario semanal\n",
            "Ingrese las horas que trabajas en la semana: 50\n",
            "Ingresa tu salario por hora: 100\n",
            "Salario Normal: $ 4000.0\n",
            "Salario Extra: $ 2100.0\n",
            "Salario Total: $ 6100.0\n"
          ]
        }
      ]
    },
    {
      "cell_type": "markdown",
      "source": [
        "3.- Algoritmo que sirva para desplegar el Total de una llamada telefónica donde se pide como datos de entrada los minutos y el tipo de llamada."
      ],
      "metadata": {
        "id": "V6U68EifhAgB"
      }
    },
    {
      "cell_type": "code",
      "source": [
        "print(\"Total de llamadas telefonicas\")\n",
        "print(\"Tipos de llamada\")\n",
        "print(\"Local - 1\")\n",
        "print(\"Nacional - 2\")\n",
        "print(\"Internacional - 3\")\n",
        "llam = float(input(\"Que llamada hiciste? \"))\n",
        "min = float(input(\"Cuantos minutos hablaste? \"))\n",
        "\n",
        "if llam == 1:\n",
        "    print(f\"Te cobraremos 3 pesitos\")\n",
        "    subtotal = 3 * 100/116\n",
        "    iva = 16 * subtotal/100\n",
        "    total = subtotal + iva\n",
        "    print(f\"El subtotal es: {subtotal}\")\n",
        "    print(f\"El iva agregado es: {iva}\")\n",
        "    print(f\"El total: {total}\")\n",
        "elif llam == 2:\n",
        "    if min <= 3:\n",
        "        t = 7 * min\n",
        "        print(f\"Te cobraremos {T}\")\n",
        "        subtotal = t * 100/116\n",
        "        iva = 16 * subtotal/100\n",
        "        total = subtotal + iva\n",
        "        print(f\"El subtotal es: {subtotal}\")\n",
        "        print(f\"El iva agregado es: {iva}\")\n",
        "        print(f\"El total: {total}\")\n",
        "    else:\n",
        "        minpasa = min - 3\n",
        "        t = 21 + (2*minpasa)\n",
        "        print(f\"Te cobraremos {t}\")\n",
        "        subtotal = t * 100/116\n",
        "        iva = 16 * subtotal/100\n",
        "        total = subtotal + iva\n",
        "        print(f\"El subtotal es: {subtotal}\")\n",
        "        print(f\"El iva agregado es: {iva}\")\n",
        "        print(f\"El total: {total}\")\n",
        "elif llam == 3:\n",
        "    if min <= 2:\n",
        "        t = 9 * min\n",
        "        print(f\"Te cobraremos {t}\")\n",
        "        subtotal = t * 100/116\n",
        "        iva = 16 * subtotal/100\n",
        "        total = subtotal + iva\n",
        "        print(f\"El subtotal es: {subtotal}\")\n",
        "        print(f\"El iva agregado es: {iva}\")\n",
        "        print(f\"El total: {total}\")\n",
        "    else:\n",
        "        minpasa = min - 3\n",
        "        t = 21 + (2*minpasa)\n",
        "        print(f\"Te cobraremos {t}\")\n",
        "        subtotal = t * 100/116\n",
        "        iva = 16 * subtotal/100\n",
        "        total = subtotal + iva\n",
        "        print(f\"El subtotal es: {subtotal}\")\n",
        "        print(f\"El iva agregado es: {iva}\")\n",
        "        print(f\"El total: {total}\")"
      ],
      "metadata": {
        "colab": {
          "base_uri": "https://localhost:8080/",
          "height": 0
        },
        "id": "xd9AMwS8hp5q",
        "outputId": "80fb4c22-5a45-408b-fe85-97b40b71eb64"
      },
      "execution_count": 14,
      "outputs": [
        {
          "output_type": "stream",
          "name": "stdout",
          "text": [
            "Total de llamadas telefonicas\n",
            "Tipos de llamada\n",
            "Local - 1\n",
            "Nacional - 2\n",
            "Internacional - 3\n",
            "Que llamada hiciste? 2\n",
            "Cuantos minutos hablaste? 15\n",
            "Te cobraremos 45.0\n",
            "El subtotal es: 38.793103448275865\n",
            "El iva agregado es: 6.206896551724139\n",
            "El total: 45.0\n"
          ]
        }
      ]
    },
    {
      "cell_type": "markdown",
      "source": [
        "4.- Algoritmo que sirva para calcular el Total a pagar por consumo de agua, donde el dato de entrada son los M3 de agua consumidos."
      ],
      "metadata": {
        "id": "xgC64TjjhqLd"
      }
    },
    {
      "cell_type": "code",
      "source": [
        "print(\"Calculadora de M3 de agua consumidos\")\n",
        "agua = float(input(\"Cuantos m3 de agua consumio? \"))\n",
        "costo = 0\n",
        "if agua <= 4:\n",
        "    costo = 50\n",
        "elif agua <= 15:\n",
        "    costo = (agua * 8)\n",
        "elif agua <= 50:\n",
        "    costo = (agua * 10)\n",
        "elif agua >= 51:\n",
        "    costo = (agua * 11)\n",
        "\n",
        "subtotal = (costo * 100)/116\n",
        "iva = (16 * subtotal)/100\n",
        "total = (subtotal + iva)\n",
        "print(f\"El subtotal es: {subtotal}\")\n",
        "print(f\"El iva agregado es: {iva}\")\n",
        "print(f\"El total a pagar: {total}\")"
      ],
      "metadata": {
        "colab": {
          "base_uri": "https://localhost:8080/",
          "height": 0
        },
        "id": "zEUqeK8IhqXX",
        "outputId": "ca99f7e4-12f1-4fee-bb5e-7c04e7276d86"
      },
      "execution_count": 15,
      "outputs": [
        {
          "output_type": "stream",
          "name": "stdout",
          "text": [
            "Calculadora de M3 de agua consumidos\n",
            "Cuantos metros cubicos de agua consumio? 40\n",
            "El subtotal es: 344.82758620689657\n",
            "El iva agregado es: 55.17241379310345\n",
            "El total a pagar: 400.0\n"
          ]
        }
      ]
    },
    {
      "cell_type": "markdown",
      "source": [
        "5.- En la materia de Metodología de la programación se aplican 5 exámenes, calcular el promedio final de la materia donde la calificación menor de los exámenes se anula y el promedio se calcula en base a 4 exámenes."
      ],
      "metadata": {
        "id": "Qu223ymthqnB"
      }
    },
    {
      "cell_type": "code",
      "source": [
        "calif1 = float(input(\"Cual es la primer calificacion? \"))\n",
        "calif2 = float(input(\"Cual es la segunda calificacion? \"))\n",
        "calif3 = float(input(\"Cual es la tercera calificacion? \"))\n",
        "calif4 = float(input(\"Cual es la cuarta calificacion? \"))\n",
        "calif5 = float(input(\"Cual es la quinta calificacion? \"))\n",
        "\n",
        "menor = calif1\n",
        "\n",
        "if(calif1 < calif2):\n",
        "    if(calif1 < calif3):\n",
        "        if(calif1 < calif4):\n",
        "            if(calif1 < calif5):\n",
        "                prom = (calif2 + calif3 + calif4 + calif5)/4\n",
        "\n",
        "if(calif2 < calif1):\n",
        "    if(calif2 < calif3):\n",
        "        if(calif2 < calif4):\n",
        "            if(calif2 < calif5):\n",
        "                prom = (calif1 + calif3 + calif4 + calif5)/4\n",
        "\n",
        "if(calif3 < calif1):\n",
        "    if(calif3 < calif2):\n",
        "        if(calif3 < calif4):\n",
        "            if(calif3 < calif5):\n",
        "                prom = (calif1 + calif2 + calif4 + calif5)/4\n",
        "\n",
        "if(calif4 < calif1):\n",
        "    if(calif4 < calif2):\n",
        "        if(calif4 < calif3):\n",
        "            if(calif4 < calif5):\n",
        "                prom = (calif2 + calif3 + calif4 + calif5)/4\n",
        "\n",
        "if(calif5 < calif1):\n",
        "    if(calif5 < calif2):\n",
        "        if(calif5 < calif3):\n",
        "            if(calif5 < calif4):\n",
        "                prom = (calif2 + calif3 + calif4 + calif5)/4\n",
        "print(f\"El promedio es: {prom}\")"
      ],
      "metadata": {
        "colab": {
          "base_uri": "https://localhost:8080/",
          "height": 0
        },
        "id": "TTnIki5Lhq0-",
        "outputId": "72364eab-0c1a-4e6c-d41e-c66d9c1e2851"
      },
      "execution_count": 17,
      "outputs": [
        {
          "output_type": "stream",
          "name": "stdout",
          "text": [
            "Cual es la primer calificacion? 90\n",
            "Cual es la segunda calificacion? 90\n",
            "Cual es la tercera calificacion? 100\n",
            "Cual es la cuarta calificacion? 100\n",
            "Cual es la quinta calificacion? 70\n",
            "El promedio es: 90.0\n"
          ]
        }
      ]
    },
    {
      "cell_type": "markdown",
      "source": [
        "6.- Algoritmo que sirva para el juego del CHINCHAMPU (Piedra, Papel, Tijera) para 1 jugador y la computadora (usar condición anidada) ."
      ],
      "metadata": {
        "id": "fSLp9BBHhq-w"
      }
    },
    {
      "cell_type": "code",
      "source": [
        "print(\"Piedra, Papel o Tijera vs Computadora\")\n",
        "import random\n",
        "j1 = int(input(\"Seleccione: \\n1-Piedra \\n2-Papel \\n3-Tijera \\nElige: \"))\n",
        "comp=random.randint(1,3)\n",
        "print (f\"Eleccion de la computadora {comp}\")\n",
        "if j1 == 1 :\n",
        "  if comp == 1 :\n",
        "    print (\"Empate\")\n",
        "  else :\n",
        "    if comp == 2:\n",
        "      print (\"Gana la computadora\")\n",
        "    else :\n",
        "      print (\"Gana el jugador 1\")\n",
        "elif j1 == 2 :\n",
        "  if comp == 1 :\n",
        "    print (\"Gana el jugador 1\")\n",
        "  else :\n",
        "    if comp == 2 :\n",
        "      print (\"Empate\")\n",
        "    else :\n",
        "      print (\"Gana la computadora\")\n",
        "elif j1 == 3 :\n",
        "  if comp == 1 :\n",
        "    print (\"Gana la computadora\")\n",
        "  else :\n",
        "    if comp == 2 :\n",
        "      print (\"Gana el jugador 1\")\n",
        "    else :\n",
        "      print (\"Empate\")\n",
        "else :\n",
        "  print (\"Error, debes ingresar un numero del 1 al 3\")"
      ],
      "metadata": {
        "colab": {
          "base_uri": "https://localhost:8080/",
          "height": 0
        },
        "id": "3P9apHlMhrG8",
        "outputId": "6202c253-14b5-4caf-b9ee-8eb99f7df2ff"
      },
      "execution_count": 20,
      "outputs": [
        {
          "output_type": "stream",
          "name": "stdout",
          "text": [
            "Piedra, Papel o Tijera vs Computadora\n",
            "Seleccione: \n",
            "1-Piedra \n",
            "2-Papel \n",
            "3-Tijera \n",
            "Elige: 2\n",
            "Eleccion de la computadora 1\n",
            "Gana el jugador 1\n"
          ]
        }
      ]
    },
    {
      "cell_type": "markdown",
      "source": [
        "7.- Algoritmo que sirva para el juego del CHINCHAMPU (Piedra, Papel, Tijera) para 1 jugador y la computadora, (usar selección múltiple)."
      ],
      "metadata": {
        "id": "3yulrEo1hrVe"
      }
    },
    {
      "cell_type": "code",
      "source": [
        "import random\n",
        "j1=int(input(\"Seleccione: \\n1-Piedra \\n2-Papel \\n3-Tijera \\nElige: \"))\n",
        "comp=random.randint(1,3)\n",
        "print (f\"Eleccion de la computadora {comp}\")\n",
        "if j1 == 1 :\n",
        "  if comp == 1 :\n",
        "    print (\"Empate\")\n",
        "  elif comp == 2 :\n",
        "    print (\"Gana la computadora\")\n",
        "  else :\n",
        "    print (\"Gana el jugador 1\")\n",
        "elif j1 == 2 :\n",
        "  if comp == 1 :\n",
        "    print (\"Gana el jugador 1\")\n",
        "  elif comp == 2 :\n",
        "    print (\"Empate\")\n",
        "  else :\n",
        "    print (\"Gana la computadora\")\n",
        "elif j1 == 3 :\n",
        "  if comp == 1 :\n",
        "    print (\"Gana la computadora\")\n",
        "  elif comp == 2 :\n",
        "    print (\"Gana el jugador 1\")\n",
        "  else :\n",
        "    print (\"Empate\")\n",
        "else :\n",
        "  print (\"Error, ingrese un numero del 1 al 3\")"
      ],
      "metadata": {
        "colab": {
          "base_uri": "https://localhost:8080/",
          "height": 0
        },
        "id": "NEYD0aJThrfk",
        "outputId": "249c586b-304e-4faf-baf7-10406d564bc2"
      },
      "execution_count": 21,
      "outputs": [
        {
          "output_type": "stream",
          "name": "stdout",
          "text": [
            "Seleccione: \n",
            "1-Piedra \n",
            "2-Papel \n",
            "3-Tijera \n",
            "Elige: 2\n",
            "Eleccion de la computadora 1\n",
            "Gana el jugador 1\n"
          ]
        }
      ]
    },
    {
      "cell_type": "markdown",
      "source": [
        "8.- Programa que calcule el precio a pagar por un cliente, tomando en cuenta los descuentos correspondientes en una tienda de electronica."
      ],
      "metadata": {
        "id": "CFlTR15Mhrrr"
      }
    },
    {
      "cell_type": "code",
      "source": [
        "print(\"Calculadora de precio segun su compra\")\n",
        "print(\"Elija el numero segun su compra\")\n",
        "print(\"1- Computadora\\n2- Television\\n3- Consola de videojuegos\")\n",
        "compra = int(input(\"Que compraste? \"))\n",
        "pago = float(input(\"Cuanto pagaras? \"))\n",
        "print(\"Elije \\n1 - Si\\n2 - No\")\n",
        "\n",
        "if compra == 1:\n",
        "    extra = int(input(\"Compraste la impresora? \"))\n",
        "    if extra == 1:\n",
        "        pago1 = float(input(\"Cuanto costo la computadora? \"))\n",
        "        total1 = pago1 - (pago1 * 0.05)\n",
        "        pago2 = float(input(\"Cuanto costo la impresora? \"))\n",
        "        total2 = pago2 - (pago2 * 0.1)\n",
        "        print (f\"Pago por ordenador : {total1}\")\n",
        "        print (f\"Pago por impresora : {total2}\")\n",
        "        print (f\"Pago total: {total1 + total2}\")\n",
        "    else:\n",
        "        total = pago - (pago * 0.05)\n",
        "        print (f\"Pago total: {total}\")\n",
        "\n",
        "\n",
        "elif compra == 2:\n",
        "    extra = int(input(\"Compraste la barra de sonido? \"))\n",
        "    if extra == 1:\n",
        "        pago1 = float(input(\"Cuanto costo la television? \"))\n",
        "        total1 = pago1 - (pago1 * 0.07)\n",
        "        pago2 = float(input(\"Cuanto costo la barra de sonido? \"))\n",
        "        total2 = pago2 - (pago2 * 0.15)\n",
        "        print (f\"Pago por television : {total1}\")\n",
        "        print (f\"Pago por barra de sonido: {total2}\")\n",
        "        print (f\"Pago total: {total1 + total2}\")\n",
        "\n",
        "    else:\n",
        "        total = pago - (pago * 0.07)\n",
        "        print (f\"Pago total: {total}\")\n",
        "elif compra == 3:\n",
        "    extra = int(input(\"Compraste un juego? \"))\n",
        "    if extra == 1:\n",
        "        pago1 = float(input(\"Cuanto costo la consola? \"))\n",
        "        total1 = pago1 - (pago1 * 0.10)\n",
        "        pago2 = float(input(\"Cuanto costo el juego? \"))\n",
        "        total2 = pago2 - (pago2 * 0.20)\n",
        "        print (f\"Pago por la consola : {total1}\")\n",
        "        print (f\"Pago por el juego: {total2}\")\n",
        "        print (f\"Pago total: {total1 + total2}\")\n",
        "    else:\n",
        "        total = pago - (pago * 0.10)\n",
        "        print (f\"Pago total: {total}\")\n",
        "\n",
        "elif compra > 3:\n",
        "    print(\"solo hay 3 opciones, ERROR \")"
      ],
      "metadata": {
        "colab": {
          "base_uri": "https://localhost:8080/",
          "height": 0
        },
        "id": "IF6T3_to4lWQ",
        "outputId": "87742636-aeb2-4a11-a91d-c7bb595da022"
      },
      "execution_count": 27,
      "outputs": [
        {
          "output_type": "stream",
          "name": "stdout",
          "text": [
            "Calculadora de precio segun su compra\n",
            "Elija el numero segun su compra\n",
            "1- Computadora\n",
            "2- Television\n",
            "3- Consola de videojuegos\n",
            "Que compraste? 3\n",
            "Cuanto pagaras? 2500\n",
            "Elije \n",
            "1 - Si\n",
            "2 - No\n",
            "Compraste un juego? 1\n",
            "Cuanto costo la consola? 2500\n",
            "Cuanto costo el juego? 500\n",
            "Pago por la consola : 2250.0\n",
            "Pago por el juego: 400.0\n",
            "Pago total: 2650.0\n"
          ]
        }
      ]
    },
    {
      "cell_type": "markdown",
      "source": [
        "9.- Escribe un programa que calcule el precio a pagar por un cliente, tomando en cuenta los descuentos correspondientes en una tienda de ropa."
      ],
      "metadata": {
        "id": "iHs4oE5s4jTZ"
      }
    },
    {
      "cell_type": "code",
      "source": [
        "print(\"Calculadora de precios segun su compra\")\n",
        "print(\"En que temporada estan?\")\n",
        "print(\"1) Verano\")\n",
        "print(\"2) Invierno\")\n",
        "print(\"3) Primavera\")\n",
        "print(\"4) Otoño\")\n",
        "opcion = int(input(\"Ingresa un numero dependiendo de la temporada:\"))\n",
        "if opcion == 1:\n",
        "  precio = float(input(\"Dame el precio: \"))\n",
        "  desc = (precio * .20)\n",
        "  preciotot = (precio - desc)\n",
        "  print(f\"El precio total es: {preciotot}\")\n",
        "elif opcion == 2:\n",
        "  precio = float(input(\"Dame el precio: \"))\n",
        "  print(\"1) Roja\")\n",
        "  print(\"2) Verde\")\n",
        "  print(\"3) No tiene\")\n",
        "  print(\"De que color es la etiqueta del articulo?\")\n",
        "  eti = int(input(\"Ingresa el numero correspondiente: \"))\n",
        "  if eti == 1:\n",
        "    desc = (precio * .30)\n",
        "    preciotot = (precio - desc)\n",
        "    print(f\"El precio total es: {preciotot}\")\n",
        "  elif eti == 2:\n",
        "    desc = (precio * .15)\n",
        "    preciotot = (precio - desc)\n",
        "    print(f\"El precio total es: {preciotot}\")\n",
        "  else:\n",
        "    print(f\"El precio total es: {precio}\")\n",
        "else:\n",
        "  precio = float(input(\"Dame el precio del articulo: \"))\n",
        "  print(\"1 )Amarilla\")\n",
        "  print(\"2) No tiene\")\n",
        "  print(\"De que color es la etiqueta del artuclo?\")\n",
        "  eti = int(input( \"Ingrese el numero correspondiente: \"))\n",
        "  if eti == 1:\n",
        "    desc = (precio * .10)\n",
        "    preciotot = (precio - desc)\n",
        "    print(f\"El precio total es: {preciotot}\")\n",
        "  else:\n",
        "    print(f\"El precio total es: {precio}\")"
      ],
      "metadata": {
        "colab": {
          "base_uri": "https://localhost:8080/",
          "height": 0
        },
        "id": "N4AewsLJhsHi",
        "outputId": "4b4e048c-915b-4d8e-fc91-5b3f5cc21ba1"
      },
      "execution_count": 24,
      "outputs": [
        {
          "output_type": "stream",
          "name": "stdout",
          "text": [
            "Calculadora de precios segun su compra\n",
            "En que temporada estan?\n",
            "1) Verano\n",
            "2) Invierno\n",
            "3) Primavera\n",
            "4) Otoño\n",
            "Ingresa un numero dependiendo de la temporada:2\n",
            "Dame el precio: 250\n",
            "1) Roja\n",
            "2) Verde\n",
            "3) No tiene\n",
            "De que color es la etiqueta del articulo?\n",
            "Ingresa el numero correspondiente: 2\n",
            "El precio total es: 212.5\n"
          ]
        }
      ]
    },
    {
      "cell_type": "markdown",
      "source": [
        "10.- Escribe un programa que calcule el precio a pagar por un cliente, tomando en cuenta los descuentos correspondientes en un restaurante."
      ],
      "metadata": {
        "id": "pPbJtjj6ji0I"
      }
    },
    {
      "cell_type": "code",
      "source": [
        "print(\"Calculadora de total a pagar en restaurante\")\n",
        "print(\"Elige \\n1- Lunes\\n2- Martes\\n3- Miercoles\\n4- Jueves\")\n",
        "print(\"5- Viernes\\n-6- Sabado\\n7- Domingo\")\n",
        "dia = int(input(\"Que dia de la semana es? \"))\n",
        "gasto = float(input(\"Cuanto gastaste? \"))\n",
        "print(\"Elige \\n1 - Si \\n2 - No\")\n",
        "if dia == 1:\n",
        "    menu = int(input(\"Elegiste el menu del dia? \"))\n",
        "    if menu == 1:\n",
        "        pago = gasto - (gasto * 0.10 )\n",
        "        print(f\"Pagaras  {pago}\")\n",
        "    else:\n",
        "        print(f\"Pagaras  {gasto}\")\n",
        "elif dia == 2:\n",
        "    menu = int(input(\"Elegiste el menu infantil? \"))\n",
        "    if menu == 1:\n",
        "        pago = gasto - (gasto * 0.20 )\n",
        "        print(f\"Pagaras  {pago}\")\n",
        "    else:\n",
        "        print(f\"Pagaras  {gasto}\")\n",
        "elif dia == 3:\n",
        "    menu = int(input(\"Elegiste el menu vegetariano \"))\n",
        "    if menu == 1:\n",
        "        pago = gasto - (gasto * 0.15 )\n",
        "        print(f\"Pagaras  {pago}\")\n",
        "    else:\n",
        "        print(f\"Pagaras  {gasto}\")\n",
        "elif dia == 4:\n",
        "    menu = int(input(\"Elegiste el menu chef? \"))\n",
        "    if menu == 1:\n",
        "        pago = gasto - (gasto * 0.05 )\n",
        "        print(f\"Pagaras  {pago}\")\n",
        "    else:\n",
        "        print(f\"Pagaras  {gasto}\")\n",
        "elif dia == 5:\n",
        "    menu = int(input(\"Elegiste el menu del dia? \"))\n",
        "    if menu == 1:\n",
        "        pago = gasto - (gasto * 0.05 )\n",
        "        print(f\"Pagaras  {pago}\")\n",
        "    else:\n",
        "        print(f\"Pagaras: {gasto}\")\n",
        "elif dia == 6 or dia == 7:\n",
        "    print(\"No hay descuentos\")\n",
        "    print(f\"Pagaras: {gasto}\")\n",
        "\n",
        "elif dia > 7:\n",
        "    print(\"ERROR\")"
      ],
      "metadata": {
        "colab": {
          "base_uri": "https://localhost:8080/",
          "height": 0
        },
        "id": "AMr5YC6uji_z",
        "outputId": "db9cd2cc-3f94-4da1-cdbb-b8764fba1433"
      },
      "execution_count": 23,
      "outputs": [
        {
          "output_type": "stream",
          "name": "stdout",
          "text": [
            "Elige \n",
            "1- Lunes\n",
            "2- Martes\n",
            "3- Miercoles\n",
            "4- Jueves\n",
            "5- Viernes\n",
            "-6- Sabado\n",
            "7- Domingo\n",
            "Que dia de la semana es? 2\n",
            "Cuanto gastaste? 240\n",
            "Elige \n",
            "1 - Si \n",
            "2 - No\n",
            "Elegiste el menu infantil? 1\n",
            "Pagaras  192.0\n"
          ]
        }
      ]
    }
  ]
}