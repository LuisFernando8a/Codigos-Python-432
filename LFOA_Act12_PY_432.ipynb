{
  "cells": [
    {
      "cell_type": "markdown",
      "metadata": {
        "id": "view-in-github",
        "colab_type": "text"
      },
      "source": [
        "<a href=\"https://colab.research.google.com/github/LuisFernando8a/Codigos-Python-432/blob/main/LFOA_Act12_PY_432.ipynb\" target=\"_parent\"><img src=\"https://colab.research.google.com/assets/colab-badge.svg\" alt=\"Open In Colab\"/></a>"
      ]
    },
    {
      "cell_type": "code",
      "execution_count": 9,
      "metadata": {
        "colab": {
          "base_uri": "https://localhost:8080/",
          "height": 0
        },
        "id": "6MJlavtRdF6t",
        "outputId": "1e4c7799-bb2e-4a33-90e1-3f8f0342fb74"
      },
      "outputs": [
        {
          "output_type": "stream",
          "name": "stdout",
          "text": [
            "Requirement already satisfied: pyyaml in /usr/local/lib/python3.10/dist-packages (6.0.1)\n",
            "Requirement already satisfied: pyyaml in /usr/local/lib/python3.10/dist-packages (6.0.1)\n"
          ]
        }
      ],
      "source": [
        "!pip install pyyaml"
      ]
    },
    {
      "cell_type": "code",
      "execution_count": null,
      "metadata": {
        "id": "YNao3PLZdYIh"
      },
      "outputs": [],
      "source": [
        "import sys\n",
        "import os\n",
        "from IPython.display import clear_output\n",
        "import random\n",
        "import json\n",
        "import yaml\n",
        "import pandas as pd"
      ]
    },
    {
      "cell_type": "code",
      "execution_count": null,
      "metadata": {
        "id": "KFAUE6baddbJ"
      },
      "outputs": [],
      "source": [
        "from google.colab import drive\n",
        "drive.mount('/content/drive')"
      ]
    },
    {
      "cell_type": "code",
      "execution_count": null,
      "metadata": {
        "id": "ahyG78j3do6K"
      },
      "outputs": [],
      "source": [
        "ruta= '/content/drive/MyDrive/Colab Notebooks/ARCHIVOS PRAC.12'"
      ]
    },
    {
      "cell_type": "code",
      "execution_count": null,
      "metadata": {
        "id": "bXpg0uXtd2dy"
      },
      "outputs": [],
      "source": [
        "import sys\n",
        "sys.path.append(ruta)"
      ]
    },
    {
      "cell_type": "code",
      "execution_count": null,
      "metadata": {
        "id": "C1hFVHx9d5Lp"
      },
      "outputs": [],
      "source": [
        "def valinum_int(msge,ri=0,rf=9999999,msgError1=\"El numero esta fuera de rango\",msgError2=\"Solo valores numericos\"):\n",
        "    while True:\n",
        "        try:\n",
        "            num = int(input(f\"{msge}: \"))\n",
        "        except:\n",
        "            print (msgError2)\n",
        "            continue\n",
        "        if num < ri or num > rf:\n",
        "            print(f\"{msgError1} ({ri} a {rf})\")\n",
        "            continue\n",
        "        else:\n",
        "            break\n",
        "    return num"
      ]
    },
    {
      "cell_type": "code",
      "source": [
        "def agregar_aut(lista_dic):\n",
        "    clear_output()\n",
        "    registro = [\"ID\",\"Nombre\",\"Ap.Paterno\",\"Ap.Materno\",\"Cargo\",\"Sexo\"]\n",
        "    nombres_h=[\"Gael\",\"Oscar\", \"Daniel\",\"Roberto\",\"Melvino\",\"Osvaldo\",\"Jesus\",\"Alejandro\", \"Mateo\", \"Ricardo\", \"Rodrigo\", \"Daniel\", \"Héctor\", \"Eduardo\", \"Erik\", \"Adan\"\n",
        "    \"Antonio\", \"Miguel\", \"Rafael\", \"Alberto\", \"Roberto\", \"Mauricio\",\"Juan\", \"Luis\",]\n",
        "    nombres_m=[\"Samantha\",\"Sofia\",\"Monse\",\"Karen\",\"Alexa\",\"Denisse\",\"Ana\",\"Irene\", \"Eva\", \"Nora\", \"Angela\", \"Marina\", \"Cecilia\", \"Estela\", \"Gabriela\",\n",
        "    \"María\", \"Carmen\", \"Laura\", \"Josefa\", \"Isabel\",]\n",
        "    apellidos=[\"Calderon\",\"Gomez\",\"Perez\",\"Meraz\",\"Garcia\",\"Vallarta\",\"Ontiveros\",\"Urbalejo\",\"Quintero\",\"Chavez\",\"Marron\",\"Peralta\",\"Zamora\",\n",
        "    \"Gómez\", \"Flores\", \"Morales\", \"Vázquez\", \"Jiménez\", \"Reyes\", \"Díaz\", \"Torres\", \"Gutiérrez\", \"Ruiz\",]\n",
        "    puesto=[\"Supervisor\",\"Encargad@\",\"Conserje\",\"Gerente\",\"Guardia\",\"Empleado Gral\",\"Jefe\"]\n",
        "    sexo=[\"H\",\"M\"]\n",
        "    for i in range(10):\n",
        "        list_datos=[]\n",
        "        repetido = False\n",
        "        while repetido == False:\n",
        "            clear_output()\n",
        "            id = random.randint(300000,400000)\n",
        "            repetido = verificar_id(lista_dic,id)\n",
        "        list_datos.append(id)\n",
        "        h_o_m =random.randint(1,2)\n",
        "        cant_nom = random.randint(1,2)\n",
        "        if h_o_m == 1:\n",
        "            if cant_nom == 1:\n",
        "                list_datos.append(random.choice(nombres_h))\n",
        "            else:\n",
        "                nombre = f\"{random.choice(nombres_h)} {random.choice(nombres_h)}\"\n",
        "                list_datos.append(nombre)\n",
        "        else:\n",
        "            if cant_nom == 1:\n",
        "                list_datos.append(random.choice(nombres_m))\n",
        "            else:\n",
        "                nombre = f\"{random.choice(nombres_m)} {random.choice(nombres_m)}\"\n",
        "                list_datos.append(nombre)\n",
        "        list_datos.append(random.choice(apellidos))\n",
        "        list_datos.append(random.choice(apellidos))\n",
        "        list_datos.append(random.choice(puesto))\n",
        "        if h_o_m == 1:\n",
        "            list_datos.append(sexo[0])\n",
        "        else:\n",
        "            list_datos.append(sexo[1])\n",
        "        lista_dic.append(dict(zip(registro,list_datos)))"
      ],
      "metadata": {
        "id": "NVxUSvBdPbpv"
      },
      "execution_count": null,
      "outputs": []
    },
    {
      "cell_type": "code",
      "execution_count": 10,
      "metadata": {
        "id": "angulDcbd_E4"
      },
      "outputs": [],
      "source": [
        "def eliminar(lista_dic):\n",
        "    clear_output()\n",
        "    encontrado = False\n",
        "    id_eliminar = valinum_int(\"Introduce el ID a eliminar: \")\n",
        "    for i, diccionario in enumerate(lista_dic):\n",
        "        if diccionario.get(\"ID\") == id_eliminar:\n",
        "            print(f\"El ID ha sido eliminado: {id_eliminar}\")\n",
        "            del lista_dic[i]\n",
        "            encontrado = True\n",
        "    if not encontrado:\n",
        "        print(f\"ID no encontrado {id_eliminar}\")"
      ]
    },
    {
      "cell_type": "code",
      "execution_count": 11,
      "metadata": {
        "id": "xmM-H0SxeDTh"
      },
      "outputs": [],
      "source": [
        "def verificar_id(lista_dic,id):\n",
        "    for diccionario in lista_dic:\n",
        "        if diccionario.get(\"ID\") == id:\n",
        "            print(\"ID ya existente\")\n",
        "            return False\n",
        "    return True"
      ]
    },
    {
      "cell_type": "code",
      "execution_count": 12,
      "metadata": {
        "id": "J-EOFazfeFmC"
      },
      "outputs": [],
      "source": [
        "def imprimir(lista_dic,check_ord):\n",
        "    clear_output()\n",
        "    op = random.randint(1,3)\n",
        "    lista_ord = sorted(lista_dic, key=lambda x: x[\"ID\"])\n",
        "    if check_ord == 1:\n",
        "        salida=pd.DataFrame(lista_ord)\n",
        "        print(salida)\n",
        "    else:\n",
        "        salida=pd.DataFrame(lista_dic)\n",
        "        print(salida)"
      ]
    },
    {
      "cell_type": "code",
      "execution_count": 13,
      "metadata": {
        "id": "5bi_anySeI3s"
      },
      "outputs": [],
      "source": [
        "def ordenar_dic(lista_dic,check_ord):\n",
        "    clear_output()\n",
        "    if check_ord == 1:\n",
        "        print(\"La lista ya se encuentra ordenada\")\n",
        "    else:\n",
        "        print(\"Se ordeno la lista\")\n",
        "        return 1"
      ]
    },
    {
      "cell_type": "code",
      "execution_count": 14,
      "metadata": {
        "id": "6L4hgkS_eLLo"
      },
      "outputs": [],
      "source": [
        "def buscar(lista_dic):\n",
        "    clear_output()\n",
        "    dic_encontrado = []\n",
        "    encontrado = False\n",
        "    id_busq = valinum_int(\"Ingresa el ID a buscar: \",300000,400000)\n",
        "    for diccionario in lista_dic:\n",
        "        if diccionario.get(\"ID\") == id_busq:\n",
        "            print(f\"ID encontrado: {id_busq}\")\n",
        "            dic_encontrado.append(diccionario)\n",
        "            salida=pd.DataFrame(dic_encontrado)\n",
        "            print(salida)\n",
        "            encontrado = True\n",
        "    if not encontrado:\n",
        "        print(f\"No se encontro el ID {id_busq}\")"
      ]
    },
    {
      "cell_type": "code",
      "execution_count": 15,
      "metadata": {
        "id": "G5k3V53reLzf"
      },
      "outputs": [],
      "source": [
        "def buscar_appat(lista_dic):\n",
        "    clear_output()\n",
        "    dic_encontrado = []\n",
        "    encontrado = False\n",
        "    appat_busq = input(\"Ingresa el apellido a buscar \")\n",
        "    for diccionario in lista_dic:\n",
        "        if diccionario.get(\"Ap.Paterno\") == appat_busq:\n",
        "            dic_encontrado.append(diccionario)\n",
        "            encontrado = True\n",
        "    if encontrado == True:\n",
        "        print(f\"Se encontro registros con el apellido: {appat_busq}\")\n",
        "        salida=pd.DataFrame(dic_encontrado)\n",
        "        print(salida)\n",
        "    if not encontrado:\n",
        "        print(f\"No se encontro ningun registro con el apellido {appat_busq}\")"
      ]
    },
    {
      "cell_type": "code",
      "execution_count": 16,
      "metadata": {
        "id": "SzNQTNO3eOzW"
      },
      "outputs": [],
      "source": [
        "def generar_archivo(lista_dic):\n",
        "    clear_output()\n",
        "    nombre_archivo = input(\"Ingresa el nombre con el que deseas guardar el archivo: \")\n",
        "    data = pd.DataFrame(lista_dic)\n",
        "    data.to_excel(f'/content/drive/MyDrive/Colab Notebooks/ARCHIVOS PRAC.12{nombre_archivo}.xlsx', index=False)\n",
        "    data.to_csv(f'//content/drive/MyDrive/Colab Notebooks/ARCHIVOS PRAC.12{nombre_archivo}.csv', index=False)\n",
        "    data.to_markdown(f'/content/drive/MyDrive/Colab Notebooks/ARCHIVOS PRAC.12{nombre_archivo}.md', index=False)\n"
      ]
    },
    {
      "cell_type": "code",
      "execution_count": 17,
      "metadata": {
        "id": "bzAWBsireTlP"
      },
      "outputs": [],
      "source": [
        "def cargar_archivo():\n",
        "    clear_output()\n",
        "    path = \"/content/drive/MyDrive/proyecto/holamundo.txt\"\n",
        "    with open(path, \"r\") as f:\n",
        "        contenido = f.read()\n",
        "    print(\"SE CARGO EL ARCHIVO CORRECTAMENTE\")\n",
        "    return contenido"
      ]
    },
    {
      "cell_type": "code",
      "execution_count": 18,
      "metadata": {
        "id": "bCfZQyX3eXif"
      },
      "outputs": [],
      "source": [
        "def imprimir_archivo(contenido):\n",
        "    clear_output()\n",
        "    print(\"CONTENIDO DEL ARCHIVO: \")\n",
        "    print(contenido)"
      ]
    },
    {
      "cell_type": "code",
      "execution_count": 19,
      "metadata": {
        "id": "iCPWZJB8eZvh"
      },
      "outputs": [],
      "source": [
        "def menu():\n",
        "    print(\"MENU:\")\n",
        "    print(\"1.-AGREGAR (AUTOMATICO 10)\")\n",
        "    print(\"2.-ELIMINAR{ID}\")\n",
        "    print(\"3.-IMPRIMIR LISTA(tabla)\")\n",
        "    print(\"4.-BUSCAR{ID}\")\n",
        "    print(\"5.-BUSCAR{appat} todas las coincidencias\")\n",
        "    print(\"6.-ORDENAR{ID}\")\n",
        "    print(\"7.-GENERAR ARCHIVO{ID}\")\n",
        "    print(\"8.-CARGAR ARCHIVO{ID}\")\n",
        "    print(\"9.-IMPRIMIR ARCHIVO{ID}\")\n",
        "    print(\"10.-BORRAR TODA LA LISTA{ID}\")\n",
        "    print(\"0.-SALIR\")"
      ]
    },
    {
      "cell_type": "code",
      "execution_count": null,
      "metadata": {
        "colab": {
          "base_uri": "https://localhost:8080/",
          "height": 0
        },
        "id": "t_w2hr7qedwq",
        "outputId": "97927e65-954c-4000-d648-5afc3ea11ae1"
      },
      "outputs": [
        {
          "output_type": "stream",
          "name": "stdout",
          "text": [
            "       ID            Nombre Ap.Paterno Ap.Materno          Cargo Sexo\n",
            "0  304577    Roberto Daniel     Marron      Gomez        Guardia    H\n",
            "1  305625  Denisse Gabriela   Vallarta     Torres           Jefe    M\n",
            "2  306912             Alexa      Gómez     Marron  Empleado Gral    M\n",
            "3  309495            Miguel     Marron   Urbalejo      Encargad@    H\n",
            "4  326275            Isabel  Gutiérrez    Peralta           Jefe    M\n",
            "5  326880        Alexa Nora     Chavez  Gutiérrez     Supervisor    M\n",
            "6  359728             Laura     Chavez      Meraz           Jefe    M\n",
            "7  371938             Sofia    Vázquez     Torres     Supervisor    M\n",
            "8  385109       AdanAntonio      Perez     Zamora     Supervisor    H\n",
            "9  385944      Carmen Sofia      Reyes       Ruiz        Guardia    M\n"
          ]
        }
      ],
      "source": [
        "lista_dic =[]\n",
        "check_ord = 0\n",
        "while True:\n",
        "    menu()\n",
        "    op = valinum_int(\"Ingresa la funcion que deseas utilizar: \")\n",
        "    if op == 1:\n",
        "        agregar_aut(lista_dic)\n",
        "        check_ord = 0\n",
        "        print(\"SE AGREGARON CORRECTAMENTE LOS REGISTROS\")\n",
        "        input(\"Presiona ENTER para borrar la pantalla\")\n",
        "        clear_output()\n",
        "        continue\n",
        "    elif op == 2:\n",
        "        eliminar(lista_dic)\n",
        "        input(\"Presiona ENTER para borrar la pantalla\")\n",
        "        clear_output()\n",
        "        continue\n",
        "    elif op == 3:\n",
        "        imprimir(lista_dic,check_ord)\n",
        "        input(\"Presiona ENTER para borrar la pantalla\")\n",
        "        clear_output()\n",
        "        continue\n",
        "    elif op == 4:\n",
        "        buscar(lista_dic)\n",
        "        input(\"Presiona ENTER para borrar la pantalla\")\n",
        "        clear_output()\n",
        "        continue\n",
        "    elif op == 5:\n",
        "        buscar_appat(lista_dic)\n",
        "        input(\"Presiona ENTER para borrar la pantalla\")\n",
        "        clear_output()\n",
        "        continue\n",
        "    elif op == 6:\n",
        "        check_ord = ordenar_dic(lista_dic,check_ord)\n",
        "        input(\"Presiona ENTER para borrar la pantalla\")\n",
        "        clear_output()\n",
        "        continue\n",
        "    elif op == 7:\n",
        "        generar_archivo(lista_dic)\n",
        "        input(\"Presiona ENTER para borrar la pantalla\")\n",
        "        clear_output()\n",
        "        continue\n",
        "    elif op == 8:\n",
        "        contenido_arch = cargar_archivo()\n",
        "        input(\"Presiona ENTER para borrar la pantalla\")\n",
        "        clear_output()\n",
        "        continue\n",
        "    elif op == 9:\n",
        "        imprimir_archivo(contenido_arch)\n",
        "        input(\"Presiona ENTER para borrar la pantalla\")\n",
        "        clear_output()\n",
        "        continue\n",
        "    elif op == 10:\n",
        "        lista_dic = []\n",
        "    elif op == 0:\n",
        "        break"
      ]
    }
  ],
  "metadata": {
    "colab": {
      "provenance": [],
      "authorship_tag": "ABX9TyOPFXrE0RasjsHRSX+lzEuA",
      "include_colab_link": true
    },
    "kernelspec": {
      "display_name": "Python 3",
      "name": "python3"
    },
    "language_info": {
      "name": "python"
    }
  },
  "nbformat": 4,
  "nbformat_minor": 0
}