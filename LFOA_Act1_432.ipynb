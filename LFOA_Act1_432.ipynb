{
  "nbformat": 4,
  "nbformat_minor": 0,
  "metadata": {
    "colab": {
      "provenance": [],
      "authorship_tag": "ABX9TyNBC459SVQeKqPmszCJ8TVO",
      "include_colab_link": true
    },
    "kernelspec": {
      "name": "python3",
      "display_name": "Python 3"
    },
    "language_info": {
      "name": "python"
    }
  },
  "cells": [
    {
      "cell_type": "markdown",
      "metadata": {
        "id": "view-in-github",
        "colab_type": "text"
      },
      "source": [
        "<a href=\"https://colab.research.google.com/github/LuisFernando8a/Codigos-Python-432/blob/main/LFOA_Act1_432.ipynb\" target=\"_parent\"><img src=\"https://colab.research.google.com/assets/colab-badge.svg\" alt=\"Open In Colab\"/></a>"
      ]
    },
    {
      "cell_type": "markdown",
      "source": [
        "### ACTIVIDAD 1\n"
      ],
      "metadata": {
        "id": "puNEH7CqVgBr"
      }
    },
    {
      "cell_type": "markdown",
      "source": [
        "1.- Programa en Python Mostrar un mensaje que diga “HOLA MUNDO” en un solo renglón usando 2 print"
      ],
      "metadata": {
        "id": "g7egEOxsVrot"
      }
    },
    {
      "cell_type": "code",
      "execution_count": null,
      "metadata": {
        "colab": {
          "base_uri": "https://localhost:8080/"
        },
        "id": "oZbfTZSWEa2D",
        "outputId": "ae31f9c3-aeb7-4553-b2a3-d896fcf6a519"
      },
      "outputs": [
        {
          "output_type": "stream",
          "name": "stdout",
          "text": [
            "Hola Mundo\n"
          ]
        }
      ],
      "source": [
        "print (\"Hola\",end=\" \")\n",
        "print (\"Mundo\")"
      ]
    },
    {
      "cell_type": "markdown",
      "source": [
        "2.- Programa en Python que lea 2 números, realizar la suma y desplegar la suma de los 2 números"
      ],
      "metadata": {
        "id": "HdyZwQHdW2TJ"
      }
    },
    {
      "cell_type": "code",
      "source": [
        "num1 = float(input(\"Dame un numero: \"))\n",
        "num2 = float(input(\"Dame un numero: \"))\n",
        "\n",
        "suma = num1 + num2\n",
        "print (f\"La suma es: {suma}\")"
      ],
      "metadata": {
        "colab": {
          "base_uri": "https://localhost:8080/"
        },
        "id": "FVoou-lyMzzW",
        "outputId": "f9443bbb-a407-474f-bf8e-1e68c1487573"
      },
      "execution_count": null,
      "outputs": [
        {
          "output_type": "stream",
          "name": "stdout",
          "text": [
            "Dame un numero: 10\n",
            "Dame un numero: 5\n",
            "La suma es: 15\n"
          ]
        }
      ]
    },
    {
      "cell_type": "markdown",
      "source": [
        "3.- Programa en Python que lea 2 números y realice las 4 operaciones básicas"
      ],
      "metadata": {
        "id": "j0MJqt0qW7Jx"
      }
    },
    {
      "cell_type": "code",
      "source": [
        "num11 = float(input(\"Dame un numero: \"))\n",
        "num21 = float(input(\"Dame un numero: \"))\n",
        "suma = num11 + num21\n",
        "resta = num11 - num21\n",
        "multiplicacion = num11 * num21\n",
        "division = num11 / num21\n",
        "\n",
        "print (f\"La suma es: {suma}\")\n",
        "print (f\"La resta es: {resta}\")\n",
        "print (f\"La multiplicacion es: {multiplicacion}\")\n",
        "print (f\"La division es: {division}\")\n"
      ],
      "metadata": {
        "colab": {
          "base_uri": "https://localhost:8080/"
        },
        "id": "unq-BnGBcyNX",
        "outputId": "ed84696c-a58e-4f65-ae05-58c00fb7e239"
      },
      "execution_count": null,
      "outputs": [
        {
          "output_type": "stream",
          "name": "stdout",
          "text": [
            "Dame un numero: 20\n",
            "Dame un numero: 5\n",
            "La suma es: 25\n",
            "La resta es: 15\n",
            "La multiplicacion es: 100\n",
            "La division es: 4.0\n"
          ]
        }
      ]
    },
    {
      "cell_type": "markdown",
      "source": [
        "4.- Programa en Python Que sirva para calcular el área de un triángulo\n",
        "\n"
      ],
      "metadata": {
        "id": "3EkfM4LNW7Vl"
      }
    },
    {
      "cell_type": "code",
      "source": [
        "base = float(input(\"Dame el valor de la base \"))\n",
        "altura = float(input(\"Dame el valor de la altura: \"))\n",
        "\n",
        "area = (base * altura) / 2\n",
        "\n",
        "print (f\"El valor del area del triangulo es: {area}\")"
      ],
      "metadata": {
        "colab": {
          "base_uri": "https://localhost:8080/"
        },
        "id": "fbkfWDozeMBN",
        "outputId": "c93f48dc-8179-48bf-ad41-87be75c2dc91"
      },
      "execution_count": null,
      "outputs": [
        {
          "output_type": "stream",
          "name": "stdout",
          "text": [
            "Dame el valor de la base 20\n",
            "Dame el valor de la altura: 15\n",
            "El valor del area es: 150.0\n"
          ]
        }
      ]
    },
    {
      "cell_type": "markdown",
      "source": [
        "5.- Programa en Python que lea una medida en centímetros y desplegar la misma medida pero convertida en pies y pulgadas\n",
        "\n"
      ],
      "metadata": {
        "id": "2jNa_zKQW7Yc"
      }
    },
    {
      "cell_type": "code",
      "source": [
        "cm = float(input(\"Dame la medida en centimetros: \"))\n",
        "\n",
        "pies = (cm / 30.48)\n",
        "pulgadas = (cm / 2.54)\n",
        "\n",
        "print (f\"El valor en pies es: {pies}\")\n",
        "print (f\"El valor en pulgadas es: {pulgadas}\")"
      ],
      "metadata": {
        "colab": {
          "base_uri": "https://localhost:8080/"
        },
        "id": "-LY3QKGFfK_U",
        "outputId": "7a854e59-5941-4b49-85f1-501643cfd730"
      },
      "execution_count": null,
      "outputs": [
        {
          "output_type": "stream",
          "name": "stdout",
          "text": [
            "Dame la medida en centimetros: 30\n",
            "El valor en pies es: 0.984251968503937\n",
            "El valor en pulgadas es: 11.811023622047244\n"
          ]
        }
      ]
    },
    {
      "cell_type": "markdown",
      "source": [
        "6.- Programa en Python que lea una temperatura en grados centígrados y desplegarla en Grados Fahrenheit y grados kelvin\n",
        "\n"
      ],
      "metadata": {
        "id": "KiKOmRYXW7bE"
      }
    },
    {
      "cell_type": "code",
      "source": [
        "centi = float(input(\"Dame la temperatura en grados centigrados: \"))\n",
        "\n",
        "fahren = (centi *  9/5) + 32\n",
        "kelvin = centi + + 273.15\n",
        "\n",
        "print (f\"Los grados Fahrenheit son: {fahren}\")\n",
        "print (f\"Los grados kelvin son: {kelvin}\")"
      ],
      "metadata": {
        "colab": {
          "base_uri": "https://localhost:8080/"
        },
        "id": "wpAwDOtCj91t",
        "outputId": "5146f947-6f8c-47fd-f794-ec1499e538b0"
      },
      "execution_count": null,
      "outputs": [
        {
          "output_type": "stream",
          "name": "stdout",
          "text": [
            "Dame la temperatura en grados centigrados: 30\n",
            "Los grados Fahrenheit son: 86.0\n",
            "Los grados kelvin son: 303.15\n"
          ]
        }
      ]
    },
    {
      "cell_type": "markdown",
      "source": [
        "7.- Programa en Python que lea 4 calificaciones de un alumno, desplegar el promedio del alumno\n",
        "\n"
      ],
      "metadata": {
        "id": "4Vb2KVOMW7eD"
      }
    },
    {
      "cell_type": "code",
      "source": [
        "cal1 = float(input(\"Valor de la primer calificacion: \"))\n",
        "cal2 = float(input(\"Valor de la segunda calificacion: \"))\n",
        "cal3 = float(input(\"Valor de la tercera calificacion: \"))\n",
        "cal4 = float(input(\"Valor de la cuarta calificacion: \"))\n",
        "\n",
        "prom = (cal1 + cal2 + cal3 + cal4) / 4\n",
        "\n",
        "print (f\"El promedio total de las calificaciones es: {prom}\")"
      ],
      "metadata": {
        "colab": {
          "base_uri": "https://localhost:8080/"
        },
        "id": "v9mZ_uC9le27",
        "outputId": "134770d8-aa40-4f1e-d175-51ed936f3c42"
      },
      "execution_count": null,
      "outputs": [
        {
          "output_type": "stream",
          "name": "stdout",
          "text": [
            "Valor de la primer calificacion: 10\n",
            "Valor de la segunda calificacion: 9\n",
            "Valor de la tercera calificacion: 9\n",
            "Valor de la cuarta calificacion: 6\n",
            " El promedio total de las calificaciones es: 8.5\n"
          ]
        }
      ]
    }
  ]
}