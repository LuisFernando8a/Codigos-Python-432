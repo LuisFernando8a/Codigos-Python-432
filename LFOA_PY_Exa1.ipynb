{
  "nbformat": 4,
  "nbformat_minor": 0,
  "metadata": {
    "colab": {
      "provenance": [],
      "authorship_tag": "ABX9TyMU9EgkEEjj9yyMID5Vgawd",
      "include_colab_link": true
    },
    "kernelspec": {
      "name": "python3",
      "display_name": "Python 3"
    },
    "language_info": {
      "name": "python"
    }
  },
  "cells": [
    {
      "cell_type": "markdown",
      "metadata": {
        "id": "view-in-github",
        "colab_type": "text"
      },
      "source": [
        "<a href=\"https://colab.research.google.com/github/LuisFernando8a/Codigos-Python-432/blob/main/LFOA_PY_Exa1.ipynb\" target=\"_parent\"><img src=\"https://colab.research.google.com/assets/colab-badge.svg\" alt=\"Open In Colab\"/></a>"
      ]
    },
    {
      "cell_type": "markdown",
      "source": [
        "Funcion que retorne una lista con 30 numeros generados aleatorios (20-100) no repetidos\n",
        "\n",
        "Escribir codigo que mande llamar la funcion y desplegar el resultado,"
      ],
      "metadata": {
        "id": "OmLpEam_FGAz"
      }
    },
    {
      "cell_type": "code",
      "source": [
        "import random"
      ],
      "metadata": {
        "id": "mL-NGkJ5-7NF"
      },
      "execution_count": 23,
      "outputs": []
    },
    {
      "cell_type": "code",
      "execution_count": 24,
      "metadata": {
        "id": "zkKKOF-1-kR2"
      },
      "outputs": [],
      "source": [
        "def gen_numeros():\n",
        "    numeros = random.sample(range(20, 101), 30)\n",
        "    return numeros"
      ]
    },
    {
      "cell_type": "code",
      "source": [
        "num_gen = gen_numeros()\n",
        "print(num_gen)"
      ],
      "metadata": {
        "colab": {
          "base_uri": "https://localhost:8080/"
        },
        "id": "yJdFtuoVE7sF",
        "outputId": "72c459e2-3d92-4964-ddcd-7898b0731ee5"
      },
      "execution_count": 25,
      "outputs": [
        {
          "output_type": "stream",
          "name": "stdout",
          "text": [
            "[88, 44, 63, 66, 53, 30, 48, 85, 54, 86, 51, 28, 27, 39, 26, 55, 43, 77, 97, 64, 20, 84, 58, 70, 72, 71, 21, 82, 92, 34]\n"
          ]
        }
      ]
    }
  ]
}