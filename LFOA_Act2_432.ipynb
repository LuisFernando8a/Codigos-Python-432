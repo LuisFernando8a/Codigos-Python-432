{
  "nbformat": 4,
  "nbformat_minor": 0,
  "metadata": {
    "colab": {
      "provenance": [],
      "authorship_tag": "ABX9TyPRvkGz4zK+4RVdWruNomk2",
      "include_colab_link": true
    },
    "kernelspec": {
      "name": "python3",
      "display_name": "Python 3"
    },
    "language_info": {
      "name": "python"
    }
  },
  "cells": [
    {
      "cell_type": "markdown",
      "metadata": {
        "id": "view-in-github",
        "colab_type": "text"
      },
      "source": [
        "<a href=\"https://colab.research.google.com/github/LuisFernando8a/Codigos-Python-432/blob/main/LFOA_Act2_432.ipynb\" target=\"_parent\"><img src=\"https://colab.research.google.com/assets/colab-badge.svg\" alt=\"Open In Colab\"/></a>"
      ]
    },
    {
      "cell_type": "markdown",
      "source": [
        "# ACTIVIDAD 2"
      ],
      "metadata": {
        "id": "Zqn6gJd9N37O"
      }
    },
    {
      "cell_type": "markdown",
      "source": [
        "1.- Programa en Python que lea 2 números enteros, usar una condición y analizar los dos números y desplegar cual de los números es el mayor."
      ],
      "metadata": {
        "id": "LXlydmqVODcb"
      }
    },
    {
      "cell_type": "code",
      "execution_count": 17,
      "metadata": {
        "id": "_wZ-YvIQHcoc",
        "colab": {
          "base_uri": "https://localhost:8080/",
          "height": 0
        },
        "outputId": "491dbf2c-a74a-4a28-f5a9-4c16e9285657"
      },
      "outputs": [
        {
          "output_type": "stream",
          "name": "stdout",
          "text": [
            "Dame el primer numero: 15\n",
            "Dame el segundo numero: 20\n",
            "20 es mayor que 15\n"
          ]
        }
      ],
      "source": [
        "num1 = int(input(\"Dame el primer numero: \"))\n",
        "num2 = int(input(\"Dame el segundo numero: \"))\n",
        "\n",
        "if num1 > num2:\n",
        "    print(f\"{num1} es mayor que {num2}\")\n",
        "if num1 < num2:\n",
        "   print(f\"{num2} es mayor que {num1}\")"
      ]
    },
    {
      "cell_type": "markdown",
      "source": [
        "2.- Programa en PythonAlgoritmo que lea 4 calificaciones de un alumno, calcular y desplegar el promedio acompañado de la leyenda \"APROBADO\" o \"REPROBADO\""
      ],
      "metadata": {
        "id": "zRJLC7M9OLY7"
      }
    },
    {
      "cell_type": "code",
      "source": [
        "calif1 = float(input(\"Dame el valor de la primer calificacion: \"))\n",
        "calif2 = float(input(\"Dame el valor de la segunda calificacion: \"))\n",
        "calif3 = float(input(\"Dame el valor de la tercer calificacion: \"))\n",
        "calif4 = float(input(\"Dame el valor de la cuarta calificacion: \"))\n",
        "\n",
        "prom = (calif1 + calif2 + calif3 + calif4)/4\n",
        "print(f\"Tu calificacion es: {prom}\")\n",
        "if prom >= 60:\n",
        "    print(\"APROBADO\")\n",
        "if prom < 60:\n",
        "    print(\"REPROBADO\")\n",
        "\n"
      ],
      "metadata": {
        "id": "AZcjntenOwMO",
        "colab": {
          "base_uri": "https://localhost:8080/",
          "height": 0
        },
        "outputId": "20244589-e99b-4f9d-9b61-c307f89ef1aa"
      },
      "execution_count": 42,
      "outputs": [
        {
          "output_type": "stream",
          "name": "stdout",
          "text": [
            "Dame el valor de la primer calificacion: 95\n",
            "Dame el valor de la segunda calificacion: 80\n",
            "Dame el valor de la tercer calificacion: 89\n",
            "Dame el valor de la cuarta calificacion: 92\n",
            "Tu calificacion es: 89.0\n",
            "APROBADO\n"
          ]
        }
      ]
    },
    {
      "cell_type": "markdown",
      "source": [
        "3.- Programa en PythonAlgoritmo que a través de opciones (1.- HOMBRE 2.- MUJER ) preguntar al usuario cual es su sexo y desplegar la leyenda “HOMBRE ”, “MUJER”\n",
        "\n"
      ],
      "metadata": {
        "id": "lPeAZ8zhOLlS"
      }
    },
    {
      "cell_type": "code",
      "source": [
        "print(\"Elige el numero que corresponda a tu sexo\")\n",
        "print(\"1) Hombre\")\n",
        "print(\"2) Mujer\")\n",
        "sexo = int(input(\"Elige: \"))\n",
        "\n",
        "if sexo == 1:\n",
        "    print(\"Eres Hombre!\")\n",
        "if sexo == 2:\n",
        "    print(\"Eres Mujer!\")\n"
      ],
      "metadata": {
        "id": "JceAI3JMOxFe",
        "colab": {
          "base_uri": "https://localhost:8080/",
          "height": 0
        },
        "outputId": "5ac275a8-348a-476c-8a55-55333a08731a"
      },
      "execution_count": 45,
      "outputs": [
        {
          "output_type": "stream",
          "name": "stdout",
          "text": [
            "Elige el numero que corresponda a tu sexo\n",
            "1) Hombre\n",
            "2) Mujer\n",
            "Elige: 1\n",
            "Eres Hombre!\n"
          ]
        }
      ]
    },
    {
      "cell_type": "markdown",
      "source": [
        "4.- Programa en Python que lea un número entero, y desplegar si el número es “PAR” o “IMPAR”"
      ],
      "metadata": {
        "id": "XraPLFrzOLrX"
      }
    },
    {
      "cell_type": "code",
      "source": [
        "num = int(input(\"Elige un numero para ver si es PAR o IMPAR: \"))\n",
        "\n",
        "if num%2 == 0:\n",
        "    print(f\"{num} es numero PAR\")\n",
        "if num%2 != 0:\n",
        "    print(f\"{num} es numero IMPAR\")\n"
      ],
      "metadata": {
        "id": "qd9aSb6COyPp",
        "colab": {
          "base_uri": "https://localhost:8080/",
          "height": 0
        },
        "outputId": "5effb9ca-8359-4f11-f1b4-b0823d079d26"
      },
      "execution_count": 36,
      "outputs": [
        {
          "output_type": "stream",
          "name": "stdout",
          "text": [
            "Elige un numero para ver si es PAR o IMPAR: 4\n",
            "4 es numero PAR\n"
          ]
        }
      ]
    },
    {
      "cell_type": "markdown",
      "source": [
        "### Usando condicion COMPUESTA"
      ],
      "metadata": {
        "id": "e1lm7BipoOKU"
      }
    },
    {
      "cell_type": "markdown",
      "source": [
        "5.- Programa en Python que lea 2 números enteros, usar una condición y analizar los dos números y desplegar cual de los números es el mayor."
      ],
      "metadata": {
        "id": "J_u2iZVjOLwj"
      }
    },
    {
      "cell_type": "code",
      "source": [
        "num1 = int(input(\"Dame el primer numero: \"))\n",
        "num2 = int(input(\"Dame el segundo numero: \"))\n",
        "\n",
        "if num1 > num2:\n",
        "    print(f\"{num1} es mayor que {num2}\")\n",
        "else:\n",
        "   print(f\"{num2} es mayor que {num1}\")"
      ],
      "metadata": {
        "id": "JfXv7r6-OzI8",
        "colab": {
          "base_uri": "https://localhost:8080/",
          "height": 0
        },
        "outputId": "092d764c-d5f0-4ab7-a138-4b9f9aba4a6e"
      },
      "execution_count": 39,
      "outputs": [
        {
          "output_type": "stream",
          "name": "stdout",
          "text": [
            "Dame el primer numero: 5\n",
            "Dame el segundo numero: 8\n",
            "8 es mayor que 5\n"
          ]
        }
      ]
    },
    {
      "cell_type": "markdown",
      "source": [
        "6.- Programa en Python que lea 4 calificaciones de un alumno, calcular y desplegar el promedio acompañado de la leyenda APROBADO o REPROBADO\n",
        "\n"
      ],
      "metadata": {
        "id": "4CAeVwCWOLz7"
      }
    },
    {
      "cell_type": "code",
      "source": [
        "calif1 = float(input(\"Dame el valor de la primer calificacion: \"))\n",
        "calif2 = float(input(\"Dame el valor de la segunda calificacion: \"))\n",
        "calif3 = float(input(\"Dame el valor de la tercer calificacion: \"))\n",
        "calif4 = float(input(\"Dame el valor de la cuarta calificacion: \"))\n",
        "\n",
        "prom = (calif1 + calif2 + calif3 + calif4)/4\n",
        "print(f\"Tu calificacion es: {prom}\")\n",
        "if prom >= 60:\n",
        "    print(\"APROBADO\")\n",
        "else:\n",
        "    print(\"REPROBADO\")"
      ],
      "metadata": {
        "id": "sUHMcEWmO0Pj",
        "colab": {
          "base_uri": "https://localhost:8080/",
          "height": 0
        },
        "outputId": "74bc4b22-2ed8-4f68-f26f-7926d3714d1a"
      },
      "execution_count": 38,
      "outputs": [
        {
          "output_type": "stream",
          "name": "stdout",
          "text": [
            "Dame el valor de la primer calificacion: 60\n",
            "Dame el valor de la segunda calificacion: 60\n",
            "Dame el valor de la tercer calificacion: 60\n",
            "Dame el valor de la cuarta calificacion: 60\n",
            "Tu calificacion es: 60.0\n",
            "APROBADO\n"
          ]
        }
      ]
    },
    {
      "cell_type": "markdown",
      "source": [
        "7.- Programa en Python que a través de opciones (1.- HOMBRE 2.- MUJER ) preguntar al usuario cual es su sexo y desplegar la leyenda “HOMBRE ”, “MUJER”\n",
        "\n"
      ],
      "metadata": {
        "id": "MQuWAs78OL26"
      }
    },
    {
      "cell_type": "code",
      "source": [
        "print(\"Elige el numero que corresponda a tu sexo\")\n",
        "print(\"1)Hombre   2)Mujer \")\n",
        "sexo = int(input(\"Elige: \"))\n",
        "\n",
        "if sexo == 1:\n",
        "    print(\"Eres Hombre!\")\n",
        "else:\n",
        "    print(\"Eres Mujer!\")"
      ],
      "metadata": {
        "id": "sSUx9baBO1T2"
      },
      "execution_count": null,
      "outputs": []
    },
    {
      "cell_type": "markdown",
      "source": [
        "8.- Programa en Python que lea un número entero, y desplegar si el número es “PAR” o “IMPAR”"
      ],
      "metadata": {
        "id": "HI-z2wwQOL6D"
      }
    },
    {
      "cell_type": "code",
      "source": [
        "num = int(input(\"Elige un numero para ver si es PAR o IMPAR: \"))\n",
        "\n",
        "if num%2 == 0:\n",
        "    print(f\"{num} es numero PAR\")\n",
        "else:\n",
        "    print(f\"{num} es numero IMPAR\")"
      ],
      "metadata": {
        "id": "8zky1gJJO2Ga",
        "colab": {
          "base_uri": "https://localhost:8080/",
          "height": 0
        },
        "outputId": "0331aa16-7115-40a8-a655-b7026ea52584"
      },
      "execution_count": 41,
      "outputs": [
        {
          "output_type": "stream",
          "name": "stdout",
          "text": [
            "Elige un numero para ver si es PAR o IMPAR: 5\n",
            "5 es numero IMPAR\n"
          ]
        }
      ]
    }
  ]
}