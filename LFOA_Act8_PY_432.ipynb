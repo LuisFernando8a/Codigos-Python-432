{
  "nbformat": 4,
  "nbformat_minor": 0,
  "metadata": {
    "colab": {
      "provenance": [],
      "authorship_tag": "ABX9TyPt5PM0yMPD91EKph1SzmIV",
      "include_colab_link": true
    },
    "kernelspec": {
      "name": "python3",
      "display_name": "Python 3"
    },
    "language_info": {
      "name": "python"
    }
  },
  "cells": [
    {
      "cell_type": "markdown",
      "metadata": {
        "id": "view-in-github",
        "colab_type": "text"
      },
      "source": [
        "<a href=\"https://colab.research.google.com/github/LuisFernando8a/Codigos-Python-432/blob/main/LFOA_Act8_PY_432.ipynb\" target=\"_parent\"><img src=\"https://colab.research.google.com/assets/colab-badge.svg\" alt=\"Open In Colab\"/></a>"
      ]
    },
    {
      "cell_type": "markdown",
      "source": [
        "# ACTIVIDAD 8"
      ],
      "metadata": {
        "id": "z_q3p2ajbkUf"
      }
    },
    {
      "cell_type": "code",
      "execution_count": 8,
      "metadata": {
        "id": "mqajKMVDavzo"
      },
      "outputs": [],
      "source": [
        "import random\n",
        "from IPython.display import clear_output\n",
        "import time"
      ]
    },
    {
      "cell_type": "code",
      "source": [
        "def valid_num(msge,msge2):\n",
        "    salida = 1\n",
        "    while(salida == 1):\n",
        "            try:\n",
        "                print(msge)\n",
        "                n = input(f\"{msge2}\")\n",
        "                num_entero = int(n)\n",
        "                if int(n):\n",
        "                    return num_entero\n",
        "            except ValueError:\n",
        "                print(\"NOMAS NUMEROS\")\n",
        "                print(\"INTENTAR DE NUEVO\")\n",
        "            else:\n",
        "                salida = 0"
      ],
      "metadata": {
        "id": "Fm45YG6ODTga"
      },
      "execution_count": 9,
      "outputs": []
    },
    {
      "cell_type": "markdown",
      "source": [
        "1.- Programa en python que genere un número entre el 1 y 10 (no visible)  preguntarle al usuario que número cree que generó la computadora, el usuario tendrá 3 oportunidades de adivinar.\n",
        "\n",
        "Decir si adivino o si falló en sus 3 intentos."
      ],
      "metadata": {
        "id": "JbvMsv5lcbuN"
      }
    },
    {
      "cell_type": "code",
      "source": [
        "def juego1():\n",
        "    num_secreto = random.randint(1,10)\n",
        "    acierto = 1\n",
        "    intentos=2\n",
        "    while(intentos>=0):\n",
        "        msge = \"Adivina el número entre 1 y 10: \"\n",
        "        msge2 = \"Que número crees que salio: \"\n",
        "        usuario = valid_num(msge,msge2)\n",
        "        if(usuario == num_secreto):\n",
        "            print(f\"ACERTASTE!, al intento {acierto}.\")\n",
        "            return 1\n",
        "            break\n",
        "        if intentos!= 0:\n",
        "            print(f\"TIENES {intentos} INTENTOS MAS.\")\n",
        "        else:\n",
        "            print(f\"PERDISTE, TE QUEDASTE SIN INTENTOS.\")\n",
        "            clear_output(wait=True)\n",
        "            return 0\n",
        "        acierto += 1\n",
        "        intentos -= 1"
      ],
      "metadata": {
        "id": "MlNtK2ZAD_fY"
      },
      "execution_count": 10,
      "outputs": []
    },
    {
      "cell_type": "code",
      "source": [
        "decision = 1\n",
        "win = 0\n",
        "lost = 0\n",
        "while(decision == 1):\n",
        "    juego = juego1()\n",
        "    if juego == 1:\n",
        "        win += 1\n",
        "    if juego == 0:\n",
        "        lost += 1\n",
        "    clear_output(wait=True)\n",
        "    time.sleep(5)\n",
        "    print(\"ELIGE TU DECISION:\")\n",
        "    print(\"1).- CONTINUAR \")\n",
        "    print(\"INGRESA CUALQUIER NUMERO PARA TERMINAR \")\n",
        "    decision2 = \"QUIERES SEGUIR EN EL JUEGO?\"\n",
        "    decision3 = \"Ingresa tu decision : \"\n",
        "    decision = valid_num(decision2,decision3)\n",
        "    clear_output(wait=True)\n",
        "    time.sleep(2)\n",
        "\n",
        "print(f\"Ganaste {win}\")\n",
        "print(f\"Perdiste {lost}\")"
      ],
      "metadata": {
        "colab": {
          "base_uri": "https://localhost:8080/",
          "height": 0
        },
        "id": "AGKZ7hPxdqA6",
        "outputId": "f4d7406a-c81f-4a69-ce62-ec87bab46a4c"
      },
      "execution_count": 11,
      "outputs": [
        {
          "output_type": "stream",
          "name": "stdout",
          "text": [
            "Ganaste 0\n",
            "Perdiste 4\n"
          ]
        }
      ]
    },
    {
      "cell_type": "markdown",
      "source": [
        "2.- El juego Busca Número muestra una lista de 10 numeros, sin mostrar su contenido,\n",
        "\n",
        "Al usuario se le muestra un número que se generó aleatoriamente y el usuario tendrá 3 intentos de adivinar en qué índice del arreglo se encuentra.\n",
        "\n",
        "El usuario recibirá un mensaje que diga GANASTE, PERDISTE, TIENES UN NUEVO INTENTO\n",
        "\n",
        "El usuario podrá jugar cuantas veces lo desee.\n",
        "\n",
        "NOTA: La lista se deberá llenar con números aleatorios del 1 al 10 no repetidos.\n",
        "(Hacer una función que regrese la lista con los 10 números sin repetir)\n",
        "\n"
      ],
      "metadata": {
        "id": "JbJ-t8QGlHDk"
      }
    },
    {
      "cell_type": "markdown",
      "source": [
        "VERSION 1"
      ],
      "metadata": {
        "id": "y17PMdBfLKGG"
      }
    },
    {
      "cell_type": "code",
      "source": [
        "def juego1A():\n",
        "    lista = []\n",
        "    lista = range(1,11)\n",
        "    lista = random.sample(lista,10)\n",
        "    num = random.randint(1,10)\n",
        "\n",
        "    for i in range(len(lista)):\n",
        "        print(\"[x]\",end='')\n",
        "    alea = random.randint(1,10)\n",
        "    print()\n",
        "    print(lista[alea])\n",
        "\n",
        "    acerto = 1\n",
        "    fallo = 2\n",
        "    while(fallo>=0):\n",
        "        msg1 = \"En que indice crees que este el numero? \"\n",
        "        msg2 = \"Ingrese la respuesta: \"\n",
        "        usuario = valid_num(msg1,msg2)\n",
        "        if(usuario == num):\n",
        "            print(f\"ACERTASTE!, al intento {acerto}\")\n",
        "            return 1\n",
        "            break\n",
        "        else:\n",
        "            if fallo!= 0:\n",
        "                print(f\"TIENES {fallo} INTENTOS MAS.\")\n",
        "            else:\n",
        "                print(f\"PERDISTE, TE QUEDASTE SIN INTENTOS.\")\n",
        "                clear_output(wait=True)\n",
        "                return 0\n",
        "        fallo -= 1\n",
        "        acerto += 1"
      ],
      "metadata": {
        "id": "fIpMxj7UlRD-"
      },
      "execution_count": 12,
      "outputs": []
    },
    {
      "cell_type": "code",
      "source": [
        "resp = 1\n",
        "win = 0\n",
        "lose = 0\n",
        "while(resp == 1):\n",
        "    jueg = juego1A()\n",
        "    if jueg == 1:\n",
        "        win += 1\n",
        "    if jueg == 0:\n",
        "        lose += 1\n",
        "    clear_output(wait=True)\n",
        "    time.sleep(2)\n",
        "    print(\"ELIGE TU DECISION:\")\n",
        "    print(\"1).- CONTINUAR \")\n",
        "    print(\"INGRESA CUALQUIER NUMERO PARA TERMINAR \")\n",
        "    mensaje1 = \"QUIERES SEGUIR EN EL JUEGO?\"\n",
        "    mensaje2 = \"Ingresa tu decision : \"\n",
        "    resp = valid_num(mensaje1,mensaje2)\n",
        "    clear_output(wait=True)\n",
        "    time.sleep(2)\n",
        "\n",
        "print(f\"Ganaste {win}\")\n",
        "print(f\"Perdiste {lose}\")"
      ],
      "metadata": {
        "colab": {
          "base_uri": "https://localhost:8080/",
          "height": 0
        },
        "id": "xNcNnPmRKywK",
        "outputId": "7150496e-b835-40d3-b065-acd633b7b743"
      },
      "execution_count": 14,
      "outputs": [
        {
          "output_type": "stream",
          "name": "stdout",
          "text": [
            "Ganaste 1\n",
            "Perdiste 0\n"
          ]
        }
      ]
    },
    {
      "cell_type": "markdown",
      "source": [
        "VERSION 2"
      ],
      "metadata": {
        "id": "PcgzI-uVLPPR"
      }
    },
    {
      "cell_type": "code",
      "source": [
        "def juego2B():\n",
        "    lista = [1,2,3,4,5,6,7,8,9,1]\n",
        "    random.shuffle(lista)\n",
        "    num = random.randint(1,10)\n",
        "\n",
        "    for i in range(len(lista)):\n",
        "        print(\"[x]\",end='')\n",
        "    aleat = random.randint(1,10)\n",
        "    print()\n",
        "    print(lista[aleat])\n",
        "\n",
        "    acerto = 1\n",
        "    fallo = 2\n",
        "    while(fallo>=0):\n",
        "        msg1 = \"En que indice crees que este el numero? \"\n",
        "        msg2 = \"Ingrese la respuesta: \"\n",
        "        usuario = valid_num(msg1,msg2)\n",
        "        if(usuario == num):\n",
        "            print(f\"ACERTASTE!, al intento {acerto}\")\n",
        "            return 1\n",
        "            break\n",
        "        else:\n",
        "            if fallo!= 0:\n",
        "                print(f\"TIENES {fallo} INTENTOS MAS.\")\n",
        "            else:\n",
        "                print(f\"PERDISTE, TE QUEDASTE SIN INTENTOS.\")\n",
        "                clear_output(wait=True)\n",
        "                return 0\n",
        "        fallo -= 1\n",
        "        acerto += 1"
      ],
      "metadata": {
        "id": "qt23JU4tLShi"
      },
      "execution_count": 15,
      "outputs": []
    },
    {
      "cell_type": "code",
      "source": [
        "resp = 1\n",
        "winner = 0\n",
        "loser = 0\n",
        "while(resp == 1):\n",
        "    jueg = juego2B()\n",
        "    if jueg == 1:\n",
        "        winner += 1\n",
        "    if jueg == 0:\n",
        "        loser += 1\n",
        "    clear_output(wait=True)\n",
        "    time.sleep(2)\n",
        "    print(\"ELIGE TU DECISION:\")\n",
        "    print(\"1).- CONTINUAR  \")\n",
        "    print(\"INGRESA CUALQUIER NUMERO PARA TERMINAR \")\n",
        "    mensaje1 = \"QUIERES SEGUIR EN EL JUEGO?\"\n",
        "    mensaje2 = \"Ingresa tu decision : \"\n",
        "    resp = valid_num(mensaje1,mensaje2)\n",
        "    clear_output(wait=True)\n",
        "    time.sleep(2)\n",
        "\n",
        "print(f\"Ganaste {winner}\")\n",
        "print(f\"Perdiste {loser}\")"
      ],
      "metadata": {
        "colab": {
          "base_uri": "https://localhost:8080/",
          "height": 0
        },
        "id": "x-knEAC4LWAP",
        "outputId": "10fafbbb-fcc7-4158-bf7b-2b5aecb55c89"
      },
      "execution_count": null,
      "outputs": [
        {
          "output_type": "stream",
          "name": "stdout",
          "text": [
            "[x][x][x][x][x][x][x][x][x][x]\n",
            "8\n",
            "En que indice crees que este el numero? \n"
          ]
        }
      ]
    },
    {
      "cell_type": "markdown",
      "source": [
        "VERSION 3"
      ],
      "metadata": {
        "id": "BryGX3jQNcoI"
      }
    },
    {
      "cell_type": "code",
      "source": [
        "def juego3C():\n",
        "    lista = []\n",
        "    while(len(lista) < 10):\n",
        "        num = random.randint(1,10)\n",
        "        if num not in lista:\n",
        "            lista.append(num)\n",
        "    for i in range(len(lista)):\n",
        "        print(\"[x]\",end='')\n",
        "    alea = random.randint(1,10)\n",
        "    print()\n",
        "    print(lista[alea])\n",
        "\n",
        "    acerto = 1\n",
        "    fallo = 2\n",
        "    while(fallo>=0):\n",
        "        msg1 = \"En que indice crees que este el numero? \"\n",
        "        msg2 = \"Ingrese la respuesta: \"\n",
        "        usuario = valid_num(msg1,msg2)\n",
        "        if(usuario == num):\n",
        "            print(f\"ACERTASTE!, al intento {acerto}\")\n",
        "            return 1\n",
        "            break\n",
        "        else:\n",
        "            if fallo!= 0:\n",
        "                print(f\"TIENES {fallo} INTENTOS MAS.\")\n",
        "            else:\n",
        "                print(f\"PERDISTE, TE QUEDASTE SIN INTENTOS.\")\n",
        "                clear_output(wait=True)\n",
        "                return 0\n",
        "        fallo -= 1\n",
        "        acerto += 1"
      ],
      "metadata": {
        "id": "za0WGkCuNeSA"
      },
      "execution_count": null,
      "outputs": []
    },
    {
      "cell_type": "code",
      "source": [
        "resp = 1\n",
        "gano = 0\n",
        "perdio = 0\n",
        "while(resp == 1):\n",
        "    jueg = juego3C()\n",
        "    if jueg == 1:\n",
        "        gano += 1\n",
        "    if jueg == 0:\n",
        "        perdio += 1\n",
        "    clear_output(wait=True)\n",
        "    time.sleep(2)\n",
        "    print(\"ELIGE TU DECISION:\")\n",
        "    print(\"1).- CONTINUAR \")\n",
        "    print(\"INGRESA CUALQUIER NUMERO PARA TERMINAR \")\n",
        "    deci = \"QUIERES SEGUIR EN EL JUEGO?\"\n",
        "    deci2 = \"Ingresa tu decision : \"\n",
        "    resp = valid_num(deci,deci2)\n",
        "    clear_output(wait=True)\n",
        "    time.sleep(2)\n",
        "\n",
        "print(f\"Ganaste {gano}\")\n",
        "print(f\"Perdiste {perdio}\")"
      ],
      "metadata": {
        "id": "LgfK1tNyNeo_"
      },
      "execution_count": null,
      "outputs": []
    }
  ]
}