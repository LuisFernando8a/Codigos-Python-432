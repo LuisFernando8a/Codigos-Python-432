{
  "nbformat": 4,
  "nbformat_minor": 0,
  "metadata": {
    "colab": {
      "provenance": [],
      "authorship_tag": "ABX9TyPX9udVS/vazV7v8IDFliu7",
      "include_colab_link": true
    },
    "kernelspec": {
      "name": "python3",
      "display_name": "Python 3"
    },
    "language_info": {
      "name": "python"
    }
  },
  "cells": [
    {
      "cell_type": "markdown",
      "metadata": {
        "id": "view-in-github",
        "colab_type": "text"
      },
      "source": [
        "<a href=\"https://colab.research.google.com/github/LuisFernando8a/Codigos-Python-432/blob/main/LFOA_Act04_PY_432.ipynb\" target=\"_parent\"><img src=\"https://colab.research.google.com/assets/colab-badge.svg\" alt=\"Open In Colab\"/></a>"
      ]
    },
    {
      "cell_type": "markdown",
      "source": [
        "# ACTIVIDAD 4"
      ],
      "metadata": {
        "id": "xawi1LHXK8kC"
      }
    },
    {
      "cell_type": "markdown",
      "source": [
        "1.- Programa en python   que lea 3 calificaciones calcule el promedio del alumno y despliega un mensaje.\n"
      ],
      "metadata": {
        "id": "_ETdsNBFK6VD"
      }
    },
    {
      "cell_type": "code",
      "source": [
        "try:\n",
        "    print(\"Calculadora de promedios\")\n",
        "    calif1 = float(input(\"Dame el valor de la primer calificacion: \"))\n",
        "    if calif1 < 0 or calif1 > 100:\n",
        "        raise ValueError(\"El número debe estar entre 0 y 100.\")\n",
        "    calif2 = float(input(\"Dame el valor de la segunda calificacion: \"))\n",
        "    if calif2 < 0 or calif2 > 100:\n",
        "        raise ValueError(\"El número debe estar entre 0 y 100.\")\n",
        "    calif3 = float(input(\"Dame el valor de la tercera calificacion: \"))\n",
        "    if calif3 < 0 or calif3 > 100:\n",
        "        raise ValueError(\"El número debe estar entre 0 y 100.\")\n",
        "\n",
        "\n",
        "except ValueError as e:\n",
        "    print(\"Error:\", e)\n",
        "except TypeError:\n",
        "    print(\"Error: El número debe ser un entero.\")\n",
        "except:\n",
        "    print(\"Ocurrio un error\")\n",
        "\n",
        "else:\n",
        "    prom = (calif1 + calif2 + calif3)/3\n",
        "    print(f\"Tu promedio es: {prom}\")\n",
        "    if prom < 30:\n",
        "        print(\"REPETIR \")\n",
        "    elif prom < 60:\n",
        "        print(\"EXTRAORDINARIO \")\n",
        "    elif prom < 70:\n",
        "        print(\"SUFICIENTE \")\n",
        "    elif prom < 80:\n",
        "        print(\"REGULAR\")\n",
        "    elif prom < 90:\n",
        "        print(\"BIEN \")\n",
        "    elif prom < 98:\n",
        "        print(\"MUY BIEN \")\n",
        "    else:\n",
        "        print(\"EXCELENTE \")"
      ],
      "metadata": {
        "id": "KegpQCV1LYxK",
        "colab": {
          "base_uri": "https://localhost:8080/"
        },
        "outputId": "1be10104-fe00-487c-8108-9b4bca7746b8"
      },
      "execution_count": null,
      "outputs": [
        {
          "output_type": "stream",
          "name": "stdout",
          "text": [
            "Calculadora de promedios\n",
            "Dame el valor de la primer calificacion: we24ew\n",
            "Error: could not convert string to float: 'we24ew'\n"
          ]
        }
      ]
    },
    {
      "cell_type": "markdown",
      "source": [
        "2.- Programa en Python que sirva para calcular el salario semanal de un trabajador."
      ],
      "metadata": {
        "id": "AEkZyxl_VNyt"
      }
    },
    {
      "cell_type": "code",
      "source": [
        "print(\"Calculadorade salario semanal\")\n",
        "try:\n",
        "    horastrab = float(input(\"Ingrese las horas que trabajas en la semana: \"))\n",
        "    if horastrab == 0:\n",
        "        raise ValueError(\"Como que no trabajaste.\")\n",
        "    salxhora = float(input(\"Ingresa tu salario por hora: \"))\n",
        "    if salxhora == 0:\n",
        "        raise ValueError(\"Como que no te pagan\")\n",
        "\n",
        "except ValueError as e:\n",
        "    print(\"Error: Los valores ingresados deben ser números\", e)\n",
        "except:\n",
        "    print(\"Error.\")\n",
        "else:\n",
        "    jornadanorm = 40\n",
        "    tarifa_normal = salxhora\n",
        "    tarifa_extra_doble = salxhora * 2\n",
        "    tarifa_extra_triple = salxhora * 3\n",
        "\n",
        "    if horastrab <= jornadanorm:\n",
        "        salnormal = horastrab * tarifa_normal\n",
        "        horasext = 0\n",
        "    else:\n",
        "        horasnorm = jornadanorm\n",
        "        horasext = horastrab - jornadanorm\n",
        "        if horasext<= 9:\n",
        "            salnormal = horasnorm * tarifa_normal\n",
        "            salextra = horasext * tarifa_extra_doble\n",
        "        else:\n",
        "            salnormal = horasnorm * tarifa_normal\n",
        "            salextra = 9 * tarifa_extra_doble + (horasext - 9) * tarifa_extra_triple\n",
        "\n",
        "    saltotal = salnormal + salextra\n",
        "\n",
        "    print(\"Salario Normal: $\", salnormal)\n",
        "    print(\"Salario Extra: $\", salextra)\n",
        "    print(\"Salario Total: $\", saltotal)\n",
        "\n",
        "\n"
      ],
      "metadata": {
        "id": "aBrkokl8VPmt",
        "colab": {
          "base_uri": "https://localhost:8080/"
        },
        "outputId": "d3a511b8-0a84-4e86-ae90-3e2eac595f3d"
      },
      "execution_count": 33,
      "outputs": [
        {
          "output_type": "stream",
          "name": "stdout",
          "text": [
            "Calculadorade salario semanal\n",
            "Ingrese las horas que trabajas en la semana: 5\n",
            "Ingresa tu salario por hora: mil quinientos\n",
            "Error: Los valores ingresados deben ser números could not convert string to float: 'mil quinientos'\n"
          ]
        }
      ]
    },
    {
      "cell_type": "markdown",
      "source": [
        "3.- Programa en Python que sirva para calcular el Total a pagar por consumo de agua, donde el dato de entrada son los M3 de agua consumidos."
      ],
      "metadata": {
        "id": "WnX4L3TQVP68"
      }
    },
    {
      "cell_type": "code",
      "source": [
        "print(\"Calculadora de M3 de agua consumidos\")\n",
        "try:\n",
        "    agua = float(input(\"Cuantos m3 de agua consumio? \"))\n",
        "    if agua == 0:\n",
        "        raise ValueError(\"Apoco no usas el agua?.\")\n",
        "except ValueError:\n",
        "    print(\"Pon numeros.\")\n",
        "except:\n",
        "    print(\"ERROR.\")\n",
        "else:\n",
        "    costo = 0\n",
        "    if agua <= 4:\n",
        "        costo = 50\n",
        "    elif agua <= 15:\n",
        "        costo = (agua * 8)\n",
        "    elif agua <= 50:\n",
        "        costo = (agua * 10)\n",
        "    elif agua > 50:\n",
        "        costo = (agua * 11)\n",
        "\n",
        "    subtotal = (costo * 100)/116\n",
        "    iva = (16 * subtotal)/100\n",
        "    total = (subtotal + iva)\n",
        "\n",
        "    print(f\"El subtotal es: {subtotal}\")\n",
        "    print(f\"El iva agregado es: {iva}\")\n",
        "    print(f\"El total a pagar: {total}\")"
      ],
      "metadata": {
        "id": "4j4MyUHFVQHV",
        "colab": {
          "base_uri": "https://localhost:8080/"
        },
        "outputId": "e085321d-95f7-4b9c-d188-9df6a4364791"
      },
      "execution_count": 19,
      "outputs": [
        {
          "output_type": "stream",
          "name": "stdout",
          "text": [
            "Calculadora de M3 de agua consumidos\n",
            "Cuantos m3 de agua consumio? wr2r2\n",
            "Pon numeros.\n"
          ]
        }
      ]
    },
    {
      "cell_type": "markdown",
      "source": [
        "4- En la materia de Metodología de la programación se aplican 5 exámenes, calcular el promedio final de la materia donde la calificación menor de los exámenes se anula y el promedio se calcula en base a 4 exámenes.\n",
        "\n"
      ],
      "metadata": {
        "id": "gS9E6sQ6VQQ2"
      }
    },
    {
      "cell_type": "code",
      "source": [
        "print(\" Calculadora de Promedio Final \")\n",
        "try:\n",
        "    calif1 = float(input(\"Cual es la primer calificacion? \"))\n",
        "    calif2 = float(input(\"Cual es la segunda calificacion? \"))\n",
        "    calif3 = float(input(\"Cual es la tercera calificacion? \"))\n",
        "    calif4 = float(input(\"Cual es la cuarta calificacion? \"))\n",
        "    calif5 = float(input(\"Cual es la quinta calificacion? \"))\n",
        "except ValueError:\n",
        "    print(\"Debiste poner las CALIFICACIONES\")\n",
        "except:\n",
        "    print(\"ERROR.\")\n",
        "else:\n",
        "    menor = calif1\n",
        "    if(calif1 < calif2):\n",
        "        if(calif1 < calif3):\n",
        "            if(calif1 < calif4):\n",
        "                if(calif1 < calif5):\n",
        "                    prom = (calif2 + calif3 + calif4 + calif5)/4\n",
        "\n",
        "    if(calif2 < calif1):\n",
        "        if(calif2 < calif3):\n",
        "            if(calif2 < calif4):\n",
        "                if(calif2 < calif5):\n",
        "                    prom = (calif1 + calif3 + calif4 + calif5)/4\n",
        "\n",
        "    if(calif3 < calif1):\n",
        "        if(calif3 < calif2):\n",
        "            if(calif3 < calif4):\n",
        "                if(calif3 < calif5):\n",
        "                    prom = (calif1 + calif2 + calif4 + calif5)/4\n",
        "\n",
        "    if(calif4 < calif1):\n",
        "        if(calif4 < calif2):\n",
        "            if(calif4 < calif3):\n",
        "                if(calif4 < calif5):\n",
        "                    prom = (calif2 + calif3 + calif4 + calif5)/4\n",
        "\n",
        "    if(calif5 < calif1):\n",
        "        if(calif5 < calif2):\n",
        "            if(calif5 < calif3):\n",
        "                if(calif5 < calif4):\n",
        "                    prom = (calif2 + calif3 + calif4 + calif5)/4\n",
        "    print(f\"El promedio es: {prom}\")"
      ],
      "metadata": {
        "id": "6XPSMUr_VQYX",
        "colab": {
          "base_uri": "https://localhost:8080/"
        },
        "outputId": "8ec46974-fbc7-4d58-f998-1f1825b32d33"
      },
      "execution_count": 29,
      "outputs": [
        {
          "output_type": "stream",
          "name": "stdout",
          "text": [
            " Calculadora de Promedio Final \n",
            "Cual es la primer calificacion? 100\n",
            "Cual es la segunda calificacion? 90\n",
            "Cual es la tercera calificacion? 9s\n",
            "Debiste poner las CALIFICACIONES\n"
          ]
        }
      ]
    },
    {
      "cell_type": "markdown",
      "source": [
        "5.- Programa en Python que sirva para el juego del CHINCHAMPU (Piedra, Papel, Tijera) para 1 jugador y la computadora\n",
        "\n"
      ],
      "metadata": {
        "id": "AOevV89YVlI5"
      }
    },
    {
      "cell_type": "code",
      "source": [
        "print(\"Piedra, Papel o Tijera vs Computadora\")\n",
        "try:\n",
        "    j1=int(input(\"Seleccione: \\n1-Piedra \\n2-Papel \\n3-Tijera \\nElige: \"))\n",
        "    if j1 <1 or j1>3:\n",
        "        raise ValueError(\"Solo tienes TRES opciones.\")\n",
        "except ValueError as e:\n",
        "    print(\"ERROR.\",e)\n",
        "except:\n",
        "    print(\"Andas MAL.\")\n",
        "else:\n",
        "    import random\n",
        "    comp=random.randint(1,3)\n",
        "    print (f\"Eleccion de la computadora {comp}\")\n",
        "    if j1 == 1 :\n",
        "        if comp == 1 :\n",
        "            print (\"Empate\")\n",
        "        elif comp == 2 :\n",
        "            print (\"Gana la computadora\")\n",
        "        else :\n",
        "            print (\"Gana el jugador 1\")\n",
        "    elif j1 == 2 :\n",
        "        if comp == 1 :\n",
        "            print (\"Gana el jugador 1\")\n",
        "        elif comp == 2 :\n",
        "            print (\"Empate\")\n",
        "        else :\n",
        "            print (\"Gana la computadora\")\n",
        "    elif j1 == 3 :\n",
        "        if comp == 1 :\n",
        "            print (\"Gana la computadora\")\n",
        "        elif comp == 2 :\n",
        "            print (\"Gana el jugador 1\")\n",
        "        else:\n",
        "            print (\"Empate\")\n",
        "    else :\n",
        "        print (\"Error, ingrese un numero del 1 al 3\")"
      ],
      "metadata": {
        "id": "cTrJOg0EVmAh",
        "colab": {
          "base_uri": "https://localhost:8080/"
        },
        "outputId": "16c95a8f-c2f4-4d0e-e724-e18ec20821b2"
      },
      "execution_count": 31,
      "outputs": [
        {
          "output_type": "stream",
          "name": "stdout",
          "text": [
            "Piedra, Papel o Tijera vs Computadora\n",
            "Seleccione: \n",
            "1-Piedra \n",
            "2-Papel \n",
            "3-Tijera \n",
            "Elige: papel\n",
            "ERROR. invalid literal for int() with base 10: 'papel'\n"
          ]
        }
      ]
    },
    {
      "cell_type": "markdown",
      "source": [
        "6.- Programa en Python que lea 4 números enteros desplegar cual es el menor, cual es mayor"
      ],
      "metadata": {
        "id": "YBXUt6U9VmPh"
      }
    },
    {
      "cell_type": "code",
      "source": [
        "try:\n",
        "    num1 = int(input(\"Valor del primer numero: \"))\n",
        "    num2 = int(input(\"Valor del segundo numero: \"))\n",
        "    num3 = int(input(\"Valor del tercer numero: \"))\n",
        "\n",
        "except ValueError:\n",
        "    print(\"Que parte de NUMEROS no entendiste.\")\n",
        "except:\n",
        "    print(\"Error.\")\n",
        "else:\n",
        "    if num1 < num2:\n",
        "        if num1 < num3:\n",
        "            menor = num3\n",
        "    else:\n",
        "        if num2 < num3:\n",
        "            menor = num2\n",
        "        else:\n",
        "            menor = num3\n",
        "\n",
        "    if num1 > num2:\n",
        "        if num1 > num3:\n",
        "            mayor = num1\n",
        "        else:\n",
        "            mayor = num3\n",
        "    else:\n",
        "        if num2 > num3:\n",
        "            mayor = num2\n",
        "        else:\n",
        "            mayor = num3\n",
        "\n",
        "    print(\"El numero menor es: \", menor)\n",
        "    print(\"El numero mayor es: \", mayor)"
      ],
      "metadata": {
        "id": "3VM9fDDEVmfh",
        "colab": {
          "base_uri": "https://localhost:8080/"
        },
        "outputId": "200b3b7c-b34a-444d-98cd-aca31e0d5042"
      },
      "execution_count": 12,
      "outputs": [
        {
          "output_type": "stream",
          "name": "stdout",
          "text": [
            "Valor del primer numero: fef332d\n",
            "Que parte de NUMEROS no entendiste.\n"
          ]
        }
      ]
    },
    {
      "cell_type": "markdown",
      "source": [
        "7.- Programa en Python que sirva para calcular el área de un triangulo, los datos de entrada deben ser forzosamente de tipo real"
      ],
      "metadata": {
        "id": "zXBdGdswQR69"
      }
    },
    {
      "cell_type": "code",
      "source": [
        "try:\n",
        "    print(\"Calculadora de area para un triangulo\")\n",
        "    base = float(input(\"Valor de la base: \"))\n",
        "    altura = float(input(\"Valor de la altura: \"))\n",
        "\n",
        "except ValueError:\n",
        "    print(\"Error: Los valores ingresados deben ser números.\")\n",
        "except:\n",
        "    print(\"Error en la captura de datos.\")\n",
        "else:\n",
        "    area = (base * altura)/2\n",
        "\n",
        "    print(f\"El valor del area es: {area}\")"
      ],
      "metadata": {
        "colab": {
          "base_uri": "https://localhost:8080/"
        },
        "id": "vN-s6LpgQRmV",
        "outputId": "034abad8-d7f2-4031-c8c1-84d67d15f8fa"
      },
      "execution_count": 32,
      "outputs": [
        {
          "output_type": "stream",
          "name": "stdout",
          "text": [
            "Calculadora de area para un triangulo\n",
            "Valor de la base: cinco\n",
            "Error: Los valores ingresados deben ser números.\n"
          ]
        }
      ]
    },
    {
      "cell_type": "markdown",
      "source": [
        "8.- Programa en Python que sirva para calcular el área de un circulo"
      ],
      "metadata": {
        "id": "w97j023kR7q0"
      }
    },
    {
      "cell_type": "code",
      "source": [
        "import math\n",
        "try:\n",
        "    print(\"Calculadora de area para un circulo\")\n",
        "    radio = float(input(\"Valor del radio: \"))\n",
        "\n",
        "except ValueError:\n",
        "    print(\"Error: Los valores ingresados deben ser números.\")\n",
        "except:\n",
        "    print(\"Error en la captura de datos.\")\n",
        "else:\n",
        "    area = (math.pi * (radio * radio))\n",
        "    print(f\"El area es: {area}\")"
      ],
      "metadata": {
        "colab": {
          "base_uri": "https://localhost:8080/"
        },
        "id": "CxSxkn--R7_z",
        "outputId": "4dc93078-52c2-4575-b889-a82bcb9c97b9"
      },
      "execution_count": 8,
      "outputs": [
        {
          "output_type": "stream",
          "name": "stdout",
          "text": [
            "Calculadora de area para un circulo\n",
            "Valor del radio: fu\n",
            "Error: Los valores ingresados deben ser números.\n"
          ]
        }
      ]
    }
  ]
}